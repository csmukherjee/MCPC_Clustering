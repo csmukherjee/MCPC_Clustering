{
 "cells": [
  {
   "cell_type": "code",
   "execution_count": null,
   "metadata": {},
   "outputs": [],
   "source": [
    "# This is the code for Louvain and Directed Louvain for detecting communities. \n",
    "# Input : Graph G (V,E) and a directed graph G(V,E)\n",
    "# Output : Communities detected by Louvain and Directed Louvain as set of nodes in each community\n",
    "# Author : Joonyoung Bae (Aaron)\n",
    "# Date : 2024-06-09"
   ]
  },
  {
   "cell_type": "code",
   "execution_count": null,
   "metadata": {},
   "outputs": [],
   "source": []
  }
 ],
 "metadata": {
  "language_info": {
   "name": "python"
  }
 },
 "nbformat": 4,
 "nbformat_minor": 2
}
