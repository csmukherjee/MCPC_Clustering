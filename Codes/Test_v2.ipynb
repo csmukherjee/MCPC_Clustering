{
 "cells": [
  {
   "cell_type": "code",
   "execution_count": 1,
   "metadata": {},
   "outputs": [],
   "source": [
    "import sys\n",
    "sys.path.append('/Users/chandrasekharmukherjee/Home/Centrality framework/MCPC_Clustering/Codes')\n",
    "#sys.path.append('I:/내 드라이브/backup/document/USC/Research/MCPC/Code/Codes')"
   ]
  },
  {
   "cell_type": "code",
   "execution_count": 2,
   "metadata": {},
   "outputs": [],
   "source": [
    "# This code is to test Louvain Method with custom Modularity Function\n",
    "import numpy as np\n",
    "import networkx as nx\n",
    "import networkx.algorithms.community.quality as nx_quality\n",
    "import networkx.algorithms.community as nx_comm\n",
    "# from Custom_Func import directed_modularity, modularity, _one_level\n"
   ]
  },
  {
   "cell_type": "code",
   "execution_count": 3,
   "metadata": {},
   "outputs": [],
   "source": [
    "%load_ext autoreload\n",
    "%autoreload 2\n",
    "import importlib\n",
    "\n",
    "import Real_Custom_v2 as Real_Custom\n",
    "Real_Custom = importlib.reload(Real_Custom)\n",
    "\n",
    "import FlowRank as FR\n",
    "FR=importlib.reload(FR)"
   ]
  },
  {
   "cell_type": "markdown",
   "metadata": {},
   "source": [
    "# Directed Graph"
   ]
  },
  {
   "cell_type": "code",
   "execution_count": 4,
   "metadata": {},
   "outputs": [],
   "source": [
    "#Directed graph example\n",
    "\n",
    "n_s=100\n",
    "val = np.random.uniform(low=0.0, high=1.0, size=(n_s, n_s))\n",
    "\n",
    "label=np.zeros((n_s))\n",
    "\n",
    "for i in range(n_s//2,n_s):\n",
    "    label[i]=1\n",
    "\n",
    "\n",
    "G = nx.DiGraph()\n",
    "\n",
    "for i in range(n_s):\n",
    "    for j in range(n_s):\n",
    "\n",
    "        if((i<n_s//2 and j <n_s//2) or (i>n_s//2 and j>n_s//2)):\n",
    "            if(val[i][j]>0.3):\n",
    "                G.add_edge(i,j,weight=1)\n",
    "        else:\n",
    "            if(val[i][j]>0.8):\n",
    "                G.add_edge(i,j,weight=1)\n",
    "\n",
    "\n",
    "#G.add_edges_from([(1,2),(2,3),(3,1),(1,4),(4,1),(4,5),(5,4),(5,6),(6,3),(3,6),(6,2),(2,6),(4,7),(7,5),(7,4)])\n",
    "\n",
    "# G = nx.DiGraph()\n",
    "# G.add_nodes_from([1,2,3])\n",
    "# G.add_edges_from([(2,3),(1,3),(3,1)])#visualize\n",
    "# nx.draw(G, with_labels=True)"
   ]
  },
  {
   "cell_type": "markdown",
   "metadata": {},
   "source": [
    "## Louvain Partition on G"
   ]
  },
  {
   "cell_type": "code",
   "execution_count": 5,
   "metadata": {},
   "outputs": [
    {
     "name": "stdout",
     "output_type": "stream",
     "text": [
      "[{0, 1, 2, 3, 4, 5, 6, 7, 8, 9, 10, 11, 12, 13, 14, 15, 16, 17, 18, 19, 20, 21, 22, 23, 24, 25, 26, 27, 28, 29, 30, 31, 32, 33, 34, 35, 36, 37, 38, 39, 40, 41, 42, 43, 44, 45, 46, 47, 48, 49}, {50, 51, 52, 53, 54, 55, 56, 57, 58, 59, 60, 61, 62, 63, 64, 65, 66, 67, 68, 69, 70, 71, 72, 73, 74, 75, 76, 77, 78, 79, 80, 81, 82, 83, 84, 85, 86, 87, 88, 89, 90, 91, 92, 93, 94, 95, 96, 97, 98, 99}]\n",
      "Time taken for original Louvain: 0.022897005081176758\n",
      "[{0, 1, 2, 3, 4, 5, 6, 7, 8, 9, 10, 11, 12, 13, 14, 15, 16, 17, 18, 19, 20, 21, 22, 23, 24, 25, 26, 27, 28, 29, 30, 31, 32, 33, 34, 35, 36, 37, 38, 39, 40, 41, 42, 43, 44, 45, 46, 47, 48, 49}, {50, 51, 52, 53, 54, 55, 56, 57, 58, 59, 60, 61, 62, 63, 64, 65, 66, 67, 68, 69, 70, 71, 72, 73, 74, 75, 76, 77, 78, 79, 80, 81, 82, 83, 84, 85, 86, 87, 88, 89, 90, 91, 92, 93, 94, 95, 96, 97, 98, 99}]\n",
      "Time taken for our implementation: 0.4222099781036377\n"
     ]
    },
    {
     "data": {
      "image/png": "[encoded data removed]",
      "text/plain": [
       "<Figure size 432x288 with 1 Axes>"
      ]
     },
     "metadata": {
      "needs_background": "light"
     },
     "output_type": "display_data"
    },
    {
     "data": {
      "image/png": "[encoded data removed]",
      "text/plain": [
       "<Figure size 432x288 with 1 Axes>"
      ]
     },
     "metadata": {
      "needs_background": "light"
     },
     "output_type": "display_data"
    },
    {
     "name": "stdout",
     "output_type": "stream",
     "text": [
      "The NMI score of original Louvain compared to true label: 1.0\n",
      "The NMI score of our implementation compared to true label: 1.0\n",
      "Are the two partitions same? True\n"
     ]
    }
   ],
   "source": [
    "import debug as debug\n",
    "import matplotlib.pyplot as plt\n",
    "from collections import defaultdict, deque\n",
    "import itertools\n",
    "from sklearn.metrics.cluster import normalized_mutual_info_score as NMI\n",
    "\n",
    "nx_comm.louvain._one_level=debug._one_level\n",
    "\n",
    "\n",
    "#run time recording\n",
    "import time\n",
    "start = time.time()\n",
    "og_partition = nx_comm.louvain.louvain_partitions(G, seed=0)\n",
    "\n",
    "final_partition_1 = deque(og_partition, maxlen=1).pop()\n",
    "end = time.time()\n",
    "\n",
    "\n",
    "print(final_partition_1)\n",
    "\n",
    "print(\"Time taken for original Louvain:\",end-start)\n",
    "\n",
    "label_1=np.zeros((n_s))\n",
    "c=0\n",
    "for sets in final_partition_1:\n",
    "    for ell in sets:\n",
    "        label_1[ell]=c\n",
    "    \n",
    "    c=c+1\n",
    "\n",
    "\n",
    "start = time.time()\n",
    "partition = Real_Custom.louvain_partitions(G, seed=0)\n",
    "\n",
    "final_partition_2 = deque(partition, maxlen=1).pop()\n",
    "end = time.time()\n",
    "print(final_partition_2)\n",
    "print(\"Time taken for our implementation:\",end-start)\n",
    "\n",
    "label_2=np.zeros((n_s))\n",
    "c=0\n",
    "for sets in final_partition_2:\n",
    "    for ell in sets:\n",
    "        label_2[ell]=c\n",
    "    c=c+1\n",
    "\n",
    "\n",
    "xaxis=[i for i in range(n_s)]\n",
    "\n",
    "plt.Figure()\n",
    "plt.scatter(xaxis,label_1,s=2,color='green')\n",
    "plt.show()\n",
    "\n",
    "plt.Figure()\n",
    "plt.scatter(xaxis,label_2,s=2,color='red')\n",
    "plt.show()\n",
    "\n",
    "print(\"The NMI score of original Louvain compared to true label:\",round(NMI(label,label_1),3))\n",
    "print(\"The NMI score of our implementation compared to true label:\",round(NMI(label,label_2),3))\n",
    "\n",
    "#Check if two partitions are same\n",
    "print(\"Are the two partitions same?\",final_partition_1==final_partition_2)"
   ]
  },
  {
   "cell_type": "markdown",
   "metadata": {},
   "source": [
    "## FlowRank & Custom Modularity Function"
   ]
  },
  {
   "cell_type": "code",
   "execution_count": 6,
   "metadata": {},
   "outputs": [],
   "source": [
    "#Directed graph example\n",
    "\n",
    "n_s=100\n",
    "val = np.random.uniform(low=0.0, high=1.0, size=(n_s, n_s))\n",
    "\n",
    "label=np.zeros((n_s))\n",
    "\n",
    "for i in range(n_s//2,n_s):\n",
    "    label[i]=1\n",
    "\n",
    "\n",
    "G = nx.DiGraph()\n",
    "\n",
    "for i in range(n_s):\n",
    "    for j in range(n_s):\n",
    "\n",
    "        if((i<=n_s//2 and j <=n_s//2) or (i>n_s//2 and j>n_s//2)):\n",
    "            if(val[i][j]>0.3 and ((j<=25) or (j>=75))): #j = core\n",
    "                G.add_edge(i,j,weight=1)\n",
    "            elif(val[i][j]>0.9):\n",
    "                G.add_edge(i,j,weight=1)\n",
    "        else:\n",
    "            if(val[i][j]>0.99):\n",
    "                G.add_edge(i,j,weight=1)\n",
    "\n",
    "\n",
    "#G.add_edges_from([(1,2),(2,3),(3,1),(1,4),(4,1),(4,5),(5,4),(5,6),(6,3),(3,6),(6,2),(2,6),(4,7),(7,5),(7,4)])\n",
    "\n",
    "# G = nx.DiGraph()\n",
    "# G.add_nodes_from([1,2,3])\n",
    "# G.add_edges_from([(2,3),(1,3),(3,1)])#visualize\n",
    "#nx.draw(G, with_labels=True)"
   ]
  },
  {
   "cell_type": "code",
   "execution_count": 10,
   "metadata": {},
   "outputs": [
    {
     "name": "stdout",
     "output_type": "stream",
     "text": [
      "100\n",
      "100\n"
     ]
    },
    {
     "data": {
      "text/plain": [
       "<matplotlib.collections.PathCollection at 0x21ac8fd0ef0>"
      ]
     },
     "execution_count": 10,
     "metadata": {},
     "output_type": "execute_result"
    },
    {
     "data": {
      "image/png": "[encoded data removed]",
      "text/plain": [
       "<Figure size 640x480 with 1 Axes>"
      ]
     },
     "metadata": {},
     "output_type": "display_data"
    }
   ],
   "source": [
    "\n",
    "import matplotlib.pyplot as plt\n",
    "\n",
    "\n",
    "v_cover_order=FR.FLOW(G.edges(),G.nodes(),1)\n",
    "print(n_s)\n",
    "xv=[i for i in range(n_s)]\n",
    "\n",
    "yv=np.zeros((n_s))\n",
    "for i in range(n_s):\n",
    "    idx=int(v_cover_order[i,1])\n",
    "    val=v_cover_order[i,0]\n",
    "    yv[idx]=val\n",
    "\n",
    "\n",
    "plt.Figure()\n",
    "plt.scatter(xv,yv)\n",
    "\n"
   ]
  },
  {
   "cell_type": "markdown",
   "metadata": {},
   "source": [
    "Check FlowRank function"
   ]
  },
  {
   "cell_type": "code",
   "execution_count": 11,
   "metadata": {},
   "outputs": [
    {
     "name": "stdout",
     "output_type": "stream",
     "text": [
      "{10: 1.0, 96: 1.0, 0: 0.9772727272727274, 2: 0.9772727272727274, 75: 0.972972972972973, 89: 0.9600000000000002, 79: 0.9426751592356688, 85: 0.9395973154362417, 77: 0.9391304347826088, 87: 0.9382716049382717, 81: 0.9358288770053477, 82: 0.9327731092436974, 91: 0.9327731092436974, 24: 0.9285714285714286, 83: 0.9285714285714286, 98: 0.9230769230769234, 16: 0.9195402298850576, 7: 0.9193548387096776, 19: 0.9193548387096776, 21: 0.9193548387096776, 13: 0.9191489361702129, 25: 0.9176470588235295, 92: 0.9144254278728607, 90: 0.913978494623656, 78: 0.9135802469135802, 6: 0.9134615384615385, 14: 0.9130434782608695, 84: 0.9115281501340483, 3: 0.9110629067245118, 18: 0.9087719298245613, 17: 0.9085173501577287, 94: 0.9024390243902438, 1: 0.9022556390977441, 8: 0.9000000000000001, 20: 0.8999999999999998, 88: 0.8970873786407767, 86: 0.8927038626609443, 99: 0.892193308550186, 93: 0.891891891891892, 22: 0.8900523560209423, 4: 0.8834645669291339, 9: 0.8820754716981132, 97: 0.8759124087591242, 15: 0.871951219512195, 11: 0.8637413394919169, 23: 0.8495575221238938, 95: 0.8441558441558441, 12: 0.8432000000000002, 80: 0.8395522388059702, 76: 0.8372093023255813, 5: 0.8172231985940246, 55: 0.39786856127886316, 64: 0.3217270194986072, 41: 0.2942050520059436, 57: 0.2654867256637168, 62: 0.23391812865497075, 65: 0.2246489859594384, 33: 0.2180293501048218, 50: 0.2152466367713005, 58: 0.20895522388059698, 59: 0.20740740740740737, 52: 0.20641025641025637, 45: 0.1979434447300771, 61: 0.19718309859154926, 40: 0.19703703703703704, 67: 0.1967455621301775, 34: 0.19130434782608693, 54: 0.18881118881118883, 31: 0.17880794701986755, 68: 0.17801047120418845, 60: 0.1716621253405995, 48: 0.1696113074204947, 47: 0.16814159292035402, 37: 0.1680280046674446, 42: 0.16620498614958448, 70: 0.16509433962264153, 35: 0.16153846153846158, 44: 0.1603498542274053, 63: 0.15451174289245984, 74: 0.151033386327504, 30: 0.14603616133518776, 46: 0.14383561643835616, 29: 0.14150943396226418, 36: 0.1399116347569956, 43: 0.13412816691505222, 53: 0.127208480565371, 71: 0.12235294117647057, 38: 0.12121212121212124, 26: 0.11972789115646261, 49: 0.11674347158218129, 28: 0.1116751269035533, 27: 0.10251798561151075, 56: 0.09486166007905138, 72: 0.09411764705882353, 32: 0.092436974789916, 51: 0.08869565217391305, 69: 0.08522727272727273, 73: 0.06923076923076922, 66: 0.0690978886756238, 39: 0.06259314456035767}\n"
     ]
    }
   ],
   "source": [
    "import FlowRank as FR\n",
    "#print(FR.FLOW_ng(G.edges(),G.nodes(),1)) # (FR, Node#)\n",
    "\n",
    "node2FR = dict()\n",
    "for i in FR.FLOW_ng(G.edges(),G.nodes(),1):\n",
    "    node_num = int(i[1])\n",
    "    node2FR[node_num] = i[0]\n",
    "\n",
    "print(node2FR)"
   ]
  },
  {
   "cell_type": "markdown",
   "metadata": {},
   "source": [
    "## Loading dataset"
   ]
  },
  {
   "cell_type": "code",
   "execution_count": 14,
   "metadata": {},
   "outputs": [
    {
     "ename": "ModuleNotFoundError",
     "evalue": "No module named 'metric'",
     "output_type": "error",
     "traceback": [
      "\u001b[1;31m---------------------------------------------------------------------------\u001b[0m",
      "\u001b[1;31mModuleNotFoundError\u001b[0m                       Traceback (most recent call last)",
      "Cell \u001b[1;32mIn[14], line 12\u001b[0m\n\u001b[0;32m      9\u001b[0m \u001b[38;5;66;03m# from scanpy import read_h5ad\u001b[39;00m\n\u001b[0;32m     10\u001b[0m \u001b[38;5;66;03m# import utils\u001b[39;00m\n\u001b[0;32m     11\u001b[0m \u001b[38;5;28;01mfrom\u001b[39;00m \u001b[38;5;21;01mscipy\u001b[39;00m \u001b[38;5;28;01mimport\u001b[39;00m sparse\n\u001b[1;32m---> 12\u001b[0m \u001b[38;5;28;01mimport\u001b[39;00m \u001b[38;5;21;01mmetric\u001b[39;00m \u001b[38;5;28;01mas\u001b[39;00m \u001b[38;5;21;01mmet\u001b[39;00m \n\u001b[0;32m     13\u001b[0m \u001b[38;5;28;01mimport\u001b[39;00m \u001b[38;5;21;01msimulation\u001b[39;00m \u001b[38;5;28;01mas\u001b[39;00m \u001b[38;5;21;01msimm\u001b[39;00m\n\u001b[0;32m     14\u001b[0m \u001b[38;5;28;01mimport\u001b[39;00m \u001b[38;5;21;01membedding\u001b[39;00m \u001b[38;5;28;01mas\u001b[39;00m \u001b[38;5;21;01membed\u001b[39;00m\n",
      "\u001b[1;31mModuleNotFoundError\u001b[0m: No module named 'metric'"
     ]
    }
   ],
   "source": [
    "from sklearn.decomposition import PCA\n",
    "from sklearn.preprocessing import LabelEncoder\n",
    "import pandas as pd\n",
    "import numpy as np\n",
    "from pynndescent import NNDescent\n",
    "from tqdm import tqdm\n",
    "import matplotlib.pyplot as plt\n",
    "from sklearn.decomposition import TruncatedSVD\n",
    "# from scanpy import read_h5ad\n",
    "# import utils\n",
    "from scipy import sparse\n",
    "import metric as met \n",
    "import simulation as simm\n",
    "import embedding as embed"
   ]
  },
  {
   "cell_type": "code",
   "execution_count": 13,
   "metadata": {},
   "outputs": [],
   "source": [
    "# data = sparse.load_npz('I:/내 드라이브/backup/document/USC/Research/MCPC/pca-benchmarks/pca-benchmarks/data/ALM/data.npz')\n",
    "# data = data.todense()\n",
    "# data = np.array(data)\n"
   ]
  },
  {
   "cell_type": "code",
   "execution_count": null,
   "metadata": {},
   "outputs": [],
   "source": [
    "name='Zhengmix8eq'\n",
    "kchoice=20\n",
    "datapath = 'I:/내 드라이브/backup/document/USC/Research/MCPC/pca-benchmarks/pca-benchmarks/data/'\n",
    "\n",
    "X = scipy.sparse.load_npz(datapath+name + '/data.npz')\n",
    "label = np.load(datapath+name+'/labels.npy')\n",
    "print(name,len(label))\n",
    "\n",
    "#Log transform+PCA\n",
    "X.data = np.log1p(X.data)\n",
    "print(\"Log transform done\")\n",
    "pca = TruncatedSVD(n_components=50)\n",
    "PX = pca.fit_transform(X)\n",
    "n=PX.shape[0]\n",
    "walk_len_c1=int(np.log2(n))\n",
    "print(PX.shape)\n",
    "\n",
    "\n",
    "#Calculte inital KNN accuracy\n",
    "met.KNN_graph_acc(PX,kchoice,0,label)\n",
    "\n",
    "#Get the KNN edgelist\n",
    "edge_list,vlist=embed.dir_KNN_graph(PX,kchoice,0)\n",
    "print(len(edge_list))"
   ]
  },
  {
   "cell_type": "code",
   "execution_count": null,
   "metadata": {},
   "outputs": [],
   "source": []
  }
 ],
 "metadata": {
  "kernelspec": {
   "display_name": "Python 3",
   "language": "python",
   "name": "python3"
  },
  "language_info": {
   "codemirror_mode": {
    "name": "ipython",
    "version": 3
   },
   "file_extension": ".py",
   "mimetype": "text/x-python",
   "name": "python",
   "nbconvert_exporter": "python",
   "pygments_lexer": "ipython3",
   "version": "3.10.1"
  }
 },
 "nbformat": 4,
 "nbformat_minor": 2
}
