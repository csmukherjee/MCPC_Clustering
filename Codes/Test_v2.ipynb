{
 "cells": [
  {
   "cell_type": "code",
   "execution_count": 1,
   "metadata": {},
   "outputs": [],
   "source": [
    "import sys\n",
    "#sys.path.append('/Users/chandrasekharmukherjee/Home/Centrality framework/MCPC_Clustering/Codes')\n",
    "sys.path.append('I:/내 드라이브/backup/document/USC/Research/MCPC/Code/Codes')"
   ]
  },
  {
   "cell_type": "code",
   "execution_count": 2,
   "metadata": {},
   "outputs": [],
   "source": [
    "# This code is to test Louvain Method with custom Modularity Function\n",
    "import numpy as np\n",
    "import networkx as nx\n",
    "import networkx.algorithms.community.quality as nx_quality\n",
    "import networkx.algorithms.community as nx_comm\n",
    "# from Custom_Func import directed_modularity, modularity, _one_level\n"
   ]
  },
  {
   "cell_type": "code",
   "execution_count": 3,
   "metadata": {},
   "outputs": [],
   "source": [
    "%load_ext autoreload\n",
    "%autoreload 2\n",
    "import importlib\n",
    "\n",
    "import Real_Custom_v2 as Real_Custom\n",
    "Real_Custom = importlib.reload(Real_Custom)\n",
    "\n",
    "import FlowRank as FR\n",
    "FR=importlib.reload(FR)"
   ]
  },
  {
   "cell_type": "markdown",
   "metadata": {},
   "source": [
    "# Directed Graph"
   ]
  },
  {
   "cell_type": "code",
   "execution_count": 4,
   "metadata": {},
   "outputs": [],
   "source": [
    "#Directed graph example\n",
    "\n",
    "n_s=100\n",
    "val = np.random.uniform(low=0.0, high=1.0, size=(n_s, n_s))\n",
    "\n",
    "label=np.zeros((n_s))\n",
    "\n",
    "for i in range(n_s//2,n_s):\n",
    "    label[i]=1\n",
    "\n",
    "\n",
    "G = nx.DiGraph()\n",
    "\n",
    "for i in range(n_s):\n",
    "    for j in range(n_s):\n",
    "\n",
    "        if((i<n_s//2 and j <n_s//2) or (i>n_s//2 and j>n_s//2)):\n",
    "            if(val[i][j]>0.3):\n",
    "                G.add_edge(i,j,weight=1)\n",
    "        else:\n",
    "            if(val[i][j]>0.8):\n",
    "                G.add_edge(i,j,weight=1)\n",
    "\n",
    "\n",
    "#G.add_edges_from([(1,2),(2,3),(3,1),(1,4),(4,1),(4,5),(5,4),(5,6),(6,3),(3,6),(6,2),(2,6),(4,7),(7,5),(7,4)])\n",
    "\n",
    "# G = nx.DiGraph()\n",
    "# G.add_nodes_from([1,2,3])\n",
    "# G.add_edges_from([(2,3),(1,3),(3,1)])#visualize\n",
    "# nx.draw(G, with_labels=True)"
   ]
  },
  {
   "cell_type": "markdown",
   "metadata": {},
   "source": [
    "## Louvain Partition on G"
   ]
  },
  {
   "cell_type": "code",
   "execution_count": 22,
   "metadata": {},
   "outputs": [
    {
     "name": "stdout",
     "output_type": "stream",
     "text": [
      "[{0, 1, 2, 3, 4, 5, 6, 7, 8, 9, 10, 11, 12, 13, 14, 15, 16, 17, 18, 19, 20, 21, 22, 23, 24, 25, 26, 27, 28, 29, 30, 31, 32, 33, 34, 35, 36, 37, 38, 39, 40, 41, 42, 43, 44, 45, 46, 47, 48, 49}, {50, 51, 52, 53, 54, 55, 56, 57, 58, 59, 60, 61, 62, 63, 64, 65, 66, 67, 68, 69, 70, 71, 72, 73, 74, 75, 76, 77, 78, 79, 80, 81, 82, 83, 84, 85, 86, 87, 88, 89, 90, 91, 92, 93, 94, 95, 96, 97, 98, 99}]\n",
      "Time taken for original Louvain: 0.029703140258789062\n",
      "[{0, 1, 2, 3, 4, 5, 6, 7, 8, 9, 10, 11, 12, 13, 14, 15, 16, 17, 18, 19, 20, 21, 22, 23, 24, 25, 26, 27, 28, 29, 30, 31, 32, 33, 34, 35, 36, 37, 38, 39, 40, 41, 42, 43, 44, 45, 46, 47, 48, 49}, {50, 51, 52, 53, 54, 55, 56, 57, 58, 59, 60, 61, 62, 63, 64, 65, 66, 67, 68, 69, 70, 71, 72, 73, 74, 75, 76, 77, 78, 79, 80, 81, 82, 83, 84, 85, 86, 87, 88, 89, 90, 91, 92, 93, 94, 95, 96, 97, 98, 99}]\n",
      "Time taken for our implementation: 0.04031062126159668\n"
     ]
    },
    {
     "data": {
      "image/png": "[encoded data removed]",
      "text/plain": [
       "<Figure size 640x480 with 1 Axes>"
      ]
     },
     "metadata": {},
     "output_type": "display_data"
    },
    {
     "data": {
      "image/png": "[encoded data removed]",
      "text/plain": [
       "<Figure size 640x480 with 1 Axes>"
      ]
     },
     "metadata": {},
     "output_type": "display_data"
    },
    {
     "name": "stdout",
     "output_type": "stream",
     "text": [
      "The NMI score of original Louvain compared to true label: 1.0\n",
      "The NMI score of our implementation compared to true label: 1.0\n",
      "Are the two partitions same? True\n"
     ]
    }
   ],
   "source": [
    "import debug as debug\n",
    "import matplotlib.pyplot as plt\n",
    "from collections import defaultdict, deque\n",
    "import itertools\n",
    "from sklearn.metrics.cluster import normalized_mutual_info_score as NMI\n",
    "\n",
    "nx_comm.louvain._one_level=debug._one_level\n",
    "\n",
    "\n",
    "#run time recording\n",
    "import time\n",
    "start = time.time()\n",
    "og_partition = nx_comm.louvain.louvain_partitions(G, seed=0)\n",
    "\n",
    "final_partition_1 = deque(og_partition, maxlen=1).pop()\n",
    "end = time.time()\n",
    "\n",
    "\n",
    "print(final_partition_1)\n",
    "\n",
    "print(\"Time taken for original Louvain:\",end-start)\n",
    "\n",
    "label_1=np.zeros((n_s))\n",
    "c=0\n",
    "for sets in final_partition_1:\n",
    "    for ell in sets:\n",
    "        label_1[ell]=c\n",
    "    \n",
    "    c=c+1\n",
    "\n",
    "\n",
    "start = time.time()\n",
    "partition = Real_Custom.louvain_partitions(G, seed=0)\n",
    "\n",
    "final_partition_2 = deque(partition, maxlen=1).pop()\n",
    "end = time.time()\n",
    "print(final_partition_2)\n",
    "print(\"Time taken for our implementation:\",end-start)\n",
    "\n",
    "label_2=np.zeros((n_s))\n",
    "c=0\n",
    "for sets in final_partition_2:\n",
    "    for ell in sets:\n",
    "        label_2[ell]=c\n",
    "    c=c+1\n",
    "\n",
    "\n",
    "xaxis=[i for i in range(n_s)]\n",
    "\n",
    "plt.Figure()\n",
    "plt.scatter(xaxis,label_1,s=2,color='green')\n",
    "plt.show()\n",
    "\n",
    "plt.Figure()\n",
    "plt.scatter(xaxis,label_2,s=2,color='red')\n",
    "plt.show()\n",
    "\n",
    "print(\"The NMI score of original Louvain compared to true label:\",round(NMI(label,label_1),3))\n",
    "print(\"The NMI score of our implementation compared to true label:\",round(NMI(label,label_2),3))\n",
    "\n",
    "#Check if two partitions are same\n",
    "print(\"Are the two partitions same?\",final_partition_1==final_partition_2)"
   ]
  },
  {
   "cell_type": "markdown",
   "metadata": {},
   "source": [
    "## FlowRank & Custom Modularity Function"
   ]
  },
  {
   "cell_type": "code",
   "execution_count": 5,
   "metadata": {},
   "outputs": [],
   "source": [
    "#Directed graph example\n",
    "\n",
    "n_s=100\n",
    "val = np.random.uniform(low=0.0, high=1.0, size=(n_s, n_s))\n",
    "\n",
    "label=np.zeros((n_s))\n",
    "\n",
    "for i in range(n_s//2,n_s):\n",
    "    label[i]=1\n",
    "\n",
    "\n",
    "G = nx.DiGraph()\n",
    "\n",
    "for i in range(n_s):\n",
    "    for j in range(n_s):\n",
    "\n",
    "        if((i<=n_s//2 and j <=n_s//2) or (i>n_s//2 and j>n_s//2)):\n",
    "            if(val[i][j]>0.3 and ((j<=25) or (j>=75))): #j = core\n",
    "                G.add_edge(i,j,weight=1)\n",
    "            elif(val[i][j]>0.9):\n",
    "                G.add_edge(i,j,weight=1)\n",
    "        else:\n",
    "            if(val[i][j]>0.99):\n",
    "                G.add_edge(i,j,weight=1)\n",
    "\n",
    "\n",
    "#G.add_edges_from([(1,2),(2,3),(3,1),(1,4),(4,1),(4,5),(5,4),(5,6),(6,3),(3,6),(6,2),(2,6),(4,7),(7,5),(7,4)])\n",
    "\n",
    "# G = nx.DiGraph()\n",
    "# G.add_nodes_from([1,2,3])\n",
    "# G.add_edges_from([(2,3),(1,3),(3,1)])#visualize\n",
    "#nx.draw(G, with_labels=True)"
   ]
  },
  {
   "cell_type": "code",
   "execution_count": 6,
   "metadata": {},
   "outputs": [
    {
     "name": "stdout",
     "output_type": "stream",
     "text": [
      "100\n",
      "100\n"
     ]
    },
    {
     "data": {
      "text/plain": [
       "<matplotlib.collections.PathCollection at 0x27966d3a060>"
      ]
     },
     "execution_count": 6,
     "metadata": {},
     "output_type": "execute_result"
    },
    {
     "data": {
      "image/png": "[encoded data removed]",
      "text/plain": [
       "<Figure size 640x480 with 1 Axes>"
      ]
     },
     "metadata": {},
     "output_type": "display_data"
    }
   ],
   "source": [
    "\n",
    "import matplotlib.pyplot as plt\n",
    "\n",
    "\n",
    "v_cover_order=FR.FLOW(G.edges(),G.nodes(),1)\n",
    "print(n_s)\n",
    "xv=[i for i in range(n_s)]\n",
    "\n",
    "yv=np.zeros((n_s))\n",
    "for i in range(n_s):\n",
    "    idx=int(v_cover_order[i,1])\n",
    "    val=v_cover_order[i,0]\n",
    "    yv[idx]=val\n",
    "\n",
    "\n",
    "plt.Figure()\n",
    "plt.scatter(xv,yv)\n",
    "\n"
   ]
  },
  {
   "cell_type": "markdown",
   "metadata": {},
   "source": [
    "Check FlowRank function"
   ]
  },
  {
   "cell_type": "code",
   "execution_count": 7,
   "metadata": {},
   "outputs": [
    {
     "name": "stdout",
     "output_type": "stream",
     "text": [
      "{4: 1.0, 86: 1.0, 98: 1.0, 75: 0.9767441860465117, 25: 0.9761904761904763, 1: 0.9638554216867469, 17: 0.9399477806788513, 22: 0.9333333333333333, 82: 0.9333333333333333, 15: 0.9327731092436974, 0: 0.9292035398230089, 19: 0.9268292682926829, 20: 0.925, 23: 0.9244712990936557, 11: 0.9230769230769231, 79: 0.923076923076923, 16: 0.9210526315789473, 87: 0.9193548387096774, 21: 0.9192546583850931, 92: 0.9192546583850931, 78: 0.9176470588235295, 89: 0.9173553719008263, 88: 0.9171974522292993, 3: 0.9168539325842696, 85: 0.9130434782608695, 10: 0.9107142857142858, 2: 0.9090909090909093, 14: 0.9068702290076337, 94: 0.9053254437869824, 97: 0.9049360146252285, 84: 0.9032846715328466, 91: 0.9025787965616044, 6: 0.9024390243902438, 7: 0.9024390243902438, 83: 0.9024390243902438, 77: 0.8994708994708995, 76: 0.8988326848249029, 5: 0.8970976253298154, 90: 0.8967391304347827, 12: 0.895615866388309, 93: 0.894736842105263, 95: 0.8921282798833821, 13: 0.891566265060241, 18: 0.891566265060241, 81: 0.8900523560209425, 80: 0.8900414937759338, 96: 0.8702928870292888, 24: 0.8571428571428572, 99: 0.8269525267993874, 9: 0.7716535433070867, 8: 0.7310469314079421, 55: 0.28021015761821366, 39: 0.2532833020637898, 56: 0.25245441795231416, 43: 0.25, 32: 0.22826086956521735, 74: 0.22355289421157684, 72: 0.2130898021308981, 30: 0.20617110799438992, 69: 0.2054794520547945, 57: 0.20090634441087615, 58: 0.19444444444444445, 33: 0.1938461538461538, 59: 0.1887640449438202, 44: 0.1835294117647059, 46: 0.17509727626459143, 52: 0.17504051863857376, 50: 0.16989567809239944, 27: 0.1693548387096774, 45: 0.16927899686520378, 41: 0.16721311475409834, 31: 0.16620498614958448, 61: 0.16085790884718495, 64: 0.1515151515151515, 65: 0.1510791366906475, 68: 0.14884979702300405, 42: 0.1477449455676516, 40: 0.14588859416445626, 28: 0.14556962025316453, 60: 0.14513788098693758, 62: 0.14473684210526316, 47: 0.14415781487101667, 34: 0.14189189189189189, 54: 0.14018691588785046, 63: 0.13105413105413105, 67: 0.12689655172413794, 48: 0.12167300380228137, 66: 0.12140575079872205, 71: 0.12054794520547946, 35: 0.11834319526627218, 53: 0.11764705882352941, 37: 0.11669367909238246, 36: 0.09152542372881356, 26: 0.0904977375565611, 73: 0.08675799086757993, 51: 0.08610271903323263, 70: 0.06006006006006007, 29: 0.056463595839524525, 49: 0.03302509907529723, 38: 0.030634573304157548}\n"
     ]
    }
   ],
   "source": [
    "import FlowRank as FR\n",
    "#print(FR.FLOW_ng(G.edges(),G.nodes(),1)) # (FR, Node#)\n",
    "\n",
    "node2FR = dict()\n",
    "for i in FR.FLOW_ng(G.edges(),G.nodes(),1):\n",
    "    node_num = int(i[1])\n",
    "    node2FR[node_num] = i[0]\n",
    "\n",
    "print(node2FR)"
   ]
  },
  {
   "cell_type": "markdown",
   "metadata": {},
   "source": [
    "## Loading dataset"
   ]
  },
  {
   "cell_type": "code",
   "execution_count": 28,
   "metadata": {},
   "outputs": [],
   "source": [
    "from sklearn.decomposition import PCA\n",
    "from sklearn.preprocessing import LabelEncoder\n",
    "import pandas as pd\n",
    "import numpy as np\n",
    "from pynndescent import NNDescent\n",
    "from tqdm import tqdm\n",
    "import matplotlib.pyplot as plt\n",
    "from sklearn.decomposition import TruncatedSVD\n",
    "# from scanpy import read_h5ad\n",
    "# import utils\n",
    "import scipy\n",
    "from scipy import sparse\n",
    "import metric as met \n",
    "# import simulation as simm\n",
    "import embedding as embed\n",
    "import FlowRank as FR\n",
    "\n",
    "from sklearn.metrics.cluster import normalized_mutual_info_score as NMI\n",
    "from sklearn.metrics import v_measure_score as v_score\n",
    "from sklearn.metrics import homogeneity_score as homogeneity\n",
    "from sklearn.metrics import completeness_score as completeness"
   ]
  },
  {
   "cell_type": "code",
   "execution_count": 27,
   "metadata": {},
   "outputs": [],
   "source": [
    "# data = sparse.load_npz('I:/내 드라이브/backup/document/USC/Research/MCPC/pca-benchmarks/pca-benchmarks/data/ALM/data.npz')\n",
    "# data = data.todense()\n",
    "# data = np.array(data)\n"
   ]
  },
  {
   "cell_type": "code",
   "execution_count": 9,
   "metadata": {},
   "outputs": [
    {
     "name": "stdout",
     "output_type": "stream",
     "text": [
      "Zhengmix 3994\n",
      "Log transform done\n",
      "(3994, 50)\n",
      "Accuracy of  20 -NN graph is 0.784\n",
      "79880\n"
     ]
    }
   ],
   "source": [
    "name='Zhengmix'\n",
    "kchoice=20 #k neighbors in KNN\n",
    "datapath = 'I:/내 드라이브/backup/document/USC/Research/MCPC/pca-benchmarks/pca-benchmarks/data/'\n",
    "\n",
    "X = scipy.sparse.load_npz(datapath+name + '/data.npz')\n",
    "label = np.load(datapath+name+'/labels.npy')\n",
    "print(name,len(label))\n",
    "\n",
    "#Log transform+PCA\n",
    "X.data = np.log1p(X.data)\n",
    "print(\"Log transform done\")\n",
    "pca = TruncatedSVD(n_components=50)\n",
    "PX = pca.fit_transform(X)\n",
    "n=PX.shape[0]\n",
    "walk_len_c1=int(np.log2(n))\n",
    "print(PX.shape)\n",
    "\n",
    "\n",
    "#Calculte inital KNN accuracy\n",
    "met.KNN_graph_acc(PX,kchoice,0,label)\n",
    "\n",
    "# #Get the KNN edgelist\n",
    "edge_list,vlist=embed.dir_KNN_graph(PX,kchoice,0)\n",
    "print(len(edge_list))"
   ]
  },
  {
   "cell_type": "code",
   "execution_count": 10,
   "metadata": {},
   "outputs": [],
   "source": [
    "from collections import defaultdict, deque\n",
    "\n",
    "def get_labels(partition,n_s):\n",
    "    final_partition_1 = deque(partition, maxlen=1).pop()\n",
    "    #print(final_partition_1)\n",
    "\n",
    "\n",
    "    label_1=np.zeros((n_s))\n",
    "    c=0\n",
    "    for sets in final_partition_1:\n",
    "        for ell in sets:\n",
    "            label_1[ell]=c\n",
    "        \n",
    "        c=c+1\n",
    "\n",
    "    return label_1"
   ]
  },
  {
   "cell_type": "code",
   "execution_count": 18,
   "metadata": {},
   "outputs": [
    {
     "name": "stdout",
     "output_type": "stream",
     "text": [
      "0.8 0.71 0.71\n",
      "0.85 0.73 0.79\n",
      "0.9 0.72 0.78\n",
      "0.95 0.71 0.78\n",
      "1 0.7 0.78\n",
      "1.05 0.7 0.78\n",
      "1.1 0.7 0.79\n",
      "1.2 0.7 0.79\n",
      "1.3 0.69 0.8\n",
      "1.5 0.68 0.79\n",
      "3 0.63 0.82\n",
      "10 0.55 0.84\n",
      "\n",
      "\n",
      "\n",
      "0.8 0.69 0.55\n",
      "0.85 0.69 0.55\n",
      "0.9 0.69 0.55\n",
      "0.95 0.78 0.66\n",
      "1 0.78 0.66\n",
      "1.05 0.78 0.66\n",
      "1.1 0.78 0.66\n",
      "1.2 0.78 0.66\n",
      "1.3 0.77 0.65\n",
      "1.5 0.78 0.66\n",
      "3 0.77 0.66\n",
      "10 0.69 0.81\n"
     ]
    }
   ],
   "source": [
    "G = nx.DiGraph()\n",
    "for (u,v) in edge_list:\n",
    "    G.add_edge(u,v,weight=1)\n",
    "\n",
    "#nx_comm.louvain._one_level=Custom_Func._one_level\n",
    "\n",
    "res_list=[0.8,0.85,0.9,0.95,1,1.05,1.1,1.2,1.3,1.5,3,10]\n",
    "\n",
    "for res in res_list:\n",
    "    partition = nx_comm.louvain.louvain_partitions(G, seed=0,resolution=res)\n",
    "    label_new=get_labels(partition,n)\n",
    "    print(res,round(NMI(label,label_new),2),round(met.purity_score(label,label_new),2))\n",
    "\n",
    "print(\"\\n\\n\")\n",
    "\n",
    "res_list=[0.8,0.85,0.9,0.95,1,1.05,1.1,1.2,1.3,1.5,3,10]\n",
    "\n",
    "\n",
    "for res in res_list:\n",
    "    partition1=Real_Custom.louvain_partitions(G, seed=0,resolution=res)\n",
    "    label_new1=get_labels(partition1,n)\n",
    "    print(res,round(NMI(label,label_new1),2),round(met.purity_score(label,label_new1),2))"
   ]
  },
  {
   "cell_type": "markdown",
   "metadata": {},
   "source": [
    "## Result Metrics Table and Visualization"
   ]
  },
  {
   "cell_type": "code",
   "execution_count": 38,
   "metadata": {},
   "outputs": [],
   "source": [
    "def metrics_summary(labels,label):\n",
    "    #partitions is a list of partitions\n",
    "    #label is the true label\n",
    "    #1) Generate a table of NMI, Purity, V-score, Homogeneity, Completeness according to various resolutions\n",
    "\n",
    "    # res_list=[0.8,0.85,0.9,0.95,1,1.05,1.1,1.2,1.3,1.5,3,10]\n",
    "    n=len(label)\n",
    "    NMI_list=[]\n",
    "    Purity_list=[]\n",
    "    V_list=[]\n",
    "    Homogeneity_list=[]\n",
    "    Completeness_list=[]\n",
    "\n",
    "    for label_new in labels:\n",
    "        NMI_list.append(round(NMI(label,label_new),2))\n",
    "        Purity_list.append(round(met.purity_score(label,label_new),2))\n",
    "        V_list.append(round(v_score(label,label_new),2))\n",
    "        Homogeneity_list.append(round(homogeneity(label,label_new),2))\n",
    "        Completeness_list.append(round(completeness(label,label_new),2))\n",
    "        \n",
    "        # print(\"NMI\",round(NMI(label,label_new),2))\n",
    "        # print(\"Purity\",round(met.purity_score(label,label_new),2))\n",
    "        # print(\"V-score\",round(v_score(label,label_new),2))\n",
    "        # print(\"Homogeneity\",round(homogeneity(label,label_new),2))\n",
    "        # print(\"Completeness\",round(completeness(label,label_new),2))\n",
    "        \n",
    "    #Draw a table\n",
    "    data = {'NMI':NMI_list,'Purity':Purity_list,'V-score':V_list,'Homogeneity':Homogeneity_list,'Completeness':Completeness_list}\n",
    "    df = pd.DataFrame(data)\n",
    "    print(df)"
   ]
  },
  {
   "cell_type": "code",
   "execution_count": 39,
   "metadata": {},
   "outputs": [
    {
     "name": "stdout",
     "output_type": "stream",
     "text": [
      "0.8 0.71 0.71\n",
      "0.85 0.73 0.79\n",
      "0.9 0.72 0.78\n",
      "0.95 0.71 0.78\n",
      "1 0.7 0.78\n",
      "1.05 0.7 0.78\n",
      "1.1 0.7 0.79\n",
      "1.2 0.7 0.79\n",
      "1.3 0.69 0.8\n",
      "1.5 0.68 0.79\n",
      "3 0.63 0.82\n",
      "10 0.55 0.84\n",
      "\n",
      "\n",
      "\n",
      "0.8 0.69 0.55\n",
      "0.85 0.69 0.55\n",
      "0.9 0.69 0.55\n",
      "0.95 0.78 0.66\n",
      "1 0.78 0.66\n",
      "1.05 0.78 0.66\n",
      "1.1 0.78 0.66\n",
      "1.2 0.78 0.66\n",
      "1.3 0.77 0.65\n",
      "1.5 0.78 0.66\n",
      "3 0.77 0.66\n",
      "10 0.69 0.81\n",
      "     NMI  Purity  V-score  Homogeneity  Completeness\n",
      "0   0.71    0.71     0.71         0.71          0.71\n",
      "1   0.73    0.79     0.73         0.75          0.70\n",
      "2   0.72    0.78     0.72         0.74          0.69\n",
      "3   0.71    0.78     0.71         0.74          0.67\n",
      "4   0.70    0.78     0.70         0.74          0.67\n",
      "5   0.70    0.78     0.70         0.74          0.67\n",
      "6   0.70    0.79     0.70         0.74          0.65\n",
      "7   0.70    0.79     0.70         0.74          0.65\n",
      "8   0.69    0.80     0.69         0.77          0.63\n",
      "9   0.68    0.79     0.68         0.76          0.62\n",
      "10  0.63    0.82     0.63         0.78          0.53\n",
      "11  0.55    0.84     0.55         0.81          0.42\n",
      "12  0.69    0.55     0.69         0.54          0.97\n",
      "13  0.69    0.55     0.69         0.54          0.97\n",
      "14  0.69    0.55     0.69         0.54          0.97\n",
      "15  0.78    0.66     0.78         0.68          0.92\n",
      "16  0.78    0.66     0.78         0.68          0.92\n",
      "17  0.78    0.66     0.78         0.68          0.92\n",
      "18  0.78    0.66     0.78         0.68          0.92\n",
      "19  0.78    0.66     0.78         0.68          0.92\n",
      "20  0.77    0.65     0.77         0.67          0.90\n",
      "21  0.78    0.66     0.78         0.68          0.92\n",
      "22  0.77    0.66     0.77         0.68          0.89\n",
      "23  0.69    0.81     0.69         0.78          0.61\n"
     ]
    }
   ],
   "source": [
    "res_list=[0.8,0.85,0.9,0.95,1,1.05,1.1,1.2,1.3,1.5,3,10]\n",
    "labels=[]\n",
    "\n",
    "for res in res_list:\n",
    "    partition = nx_comm.louvain.louvain_partitions(G, seed=0,resolution=res)\n",
    "    label_new=get_labels(partition,n)\n",
    "    labels.append(label_new)\n",
    "    print(res,round(NMI(label,label_new),2),round(met.purity_score(label,label_new),2))\n",
    "\n",
    "print(\"\\n\\n\")\n",
    "\n",
    "res_list=[0.8,0.85,0.9,0.95,1,1.05,1.1,1.2,1.3,1.5,3,10]\n",
    "\n",
    "\n",
    "for res in res_list:\n",
    "    partition1=Real_Custom.louvain_partitions(G, seed=0,resolution=res)\n",
    "    label_new1=get_labels(partition1,n)\n",
    "    labels.append(label_new1)\n",
    "    print(res,round(NMI(label,label_new1),2),round(met.purity_score(label,label_new1),2))\n",
    "    \n",
    "metrics_summary(labels,label)"
   ]
  },
  {
   "cell_type": "code",
   "execution_count": null,
   "metadata": {},
   "outputs": [],
   "source": []
  }
 ],
 "metadata": {
  "kernelspec": {
   "display_name": "Python 3",
   "language": "python",
   "name": "python3"
  },
  "language_info": {
   "codemirror_mode": {
    "name": "ipython",
    "version": 3
   },
   "file_extension": ".py",
   "mimetype": "text/x-python",
   "name": "python",
   "nbconvert_exporter": "python",
   "pygments_lexer": "ipython3",
   "version": "3.12.3"
  }
 },
 "nbformat": 4,
 "nbformat_minor": 2
}
