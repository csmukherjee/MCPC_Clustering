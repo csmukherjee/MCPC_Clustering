{
 "cells": [
  {
   "cell_type": "code",
   "execution_count": 18,
   "metadata": {},
   "outputs": [],
   "source": [
    "import sys\n",
    "#sys.path.append('/Users/chandrasekharmukherjee/Home/Centrality framework/MCPC_Clustering/Codes')\n",
    "sys.path.append('I:/내 드라이브/backup/document/USC/Research/MCPC/Code/Codes')"
   ]
  },
  {
   "cell_type": "code",
   "execution_count": 19,
   "metadata": {},
   "outputs": [],
   "source": [
    "# This code is to test Louvain Method with custom Modularity Function\n",
    "import numpy as np\n",
    "import networkx as nx\n",
    "import networkx.algorithms.community.quality as nx_quality\n",
    "import networkx.algorithms.community as nx_comm\n",
    "# from Custom_Func import directed_modularity, modularity, _one_level\n"
   ]
  },
  {
   "cell_type": "code",
   "execution_count": 20,
   "metadata": {},
   "outputs": [
    {
     "name": "stdout",
     "output_type": "stream",
     "text": [
      "The autoreload extension is already loaded. To reload it, use:\n",
      "  %reload_ext autoreload\n"
     ]
    }
   ],
   "source": [
    "%load_ext autoreload\n",
    "%autoreload 2\n",
    "import importlib\n",
    "\n",
    "import Real_Custom_v2 as Real_Custom\n",
    "Real_Custom = importlib.reload(Real_Custom)\n",
    "\n",
    "import FlowRank as FR\n",
    "FR=importlib.reload(FR)"
   ]
  },
  {
   "cell_type": "markdown",
   "metadata": {},
   "source": [
    "# Directed Graph"
   ]
  },
  {
   "cell_type": "code",
   "execution_count": 21,
   "metadata": {},
   "outputs": [],
   "source": [
    "#Directed graph example\n",
    "\n",
    "n_s=100\n",
    "val = np.random.uniform(low=0.0, high=1.0, size=(n_s, n_s))\n",
    "\n",
    "label=np.zeros((n_s))\n",
    "\n",
    "for i in range(n_s//2,n_s):\n",
    "    label[i]=1\n",
    "\n",
    "\n",
    "G = nx.DiGraph()\n",
    "\n",
    "for i in range(n_s):\n",
    "    for j in range(n_s):\n",
    "\n",
    "        if((i<n_s//2 and j <n_s//2) or (i>n_s//2 and j>n_s//2)):\n",
    "            if(val[i][j]>0.3):\n",
    "                G.add_edge(i,j,weight=1)\n",
    "        else:\n",
    "            if(val[i][j]>0.8):\n",
    "                G.add_edge(i,j,weight=1)\n",
    "\n",
    "\n",
    "#G.add_edges_from([(1,2),(2,3),(3,1),(1,4),(4,1),(4,5),(5,4),(5,6),(6,3),(3,6),(6,2),(2,6),(4,7),(7,5),(7,4)])\n",
    "\n",
    "# G = nx.DiGraph()\n",
    "# G.add_nodes_from([1,2,3])\n",
    "# G.add_edges_from([(2,3),(1,3),(3,1)])#visualize\n",
    "# nx.draw(G, with_labels=True)"
   ]
  },
  {
   "cell_type": "markdown",
   "metadata": {},
   "source": [
    "## Louvain Partition on G"
   ]
  },
  {
   "cell_type": "code",
   "execution_count": 22,
   "metadata": {},
   "outputs": [
    {
     "name": "stdout",
     "output_type": "stream",
     "text": [
      "[{0, 1, 2, 3, 4, 5, 6, 7, 8, 9, 10, 11, 12, 13, 14, 15, 16, 17, 18, 19, 20, 21, 22, 23, 24, 25, 26, 27, 28, 29, 30, 31, 32, 33, 34, 35, 36, 37, 38, 39, 40, 41, 42, 43, 44, 45, 46, 47, 48, 49}, {50, 51, 52, 53, 54, 55, 56, 57, 58, 59, 60, 61, 62, 63, 64, 65, 66, 67, 68, 69, 70, 71, 72, 73, 74, 75, 76, 77, 78, 79, 80, 81, 82, 83, 84, 85, 86, 87, 88, 89, 90, 91, 92, 93, 94, 95, 96, 97, 98, 99}]\n",
      "Time taken for original Louvain: 0.029703140258789062\n",
      "[{0, 1, 2, 3, 4, 5, 6, 7, 8, 9, 10, 11, 12, 13, 14, 15, 16, 17, 18, 19, 20, 21, 22, 23, 24, 25, 26, 27, 28, 29, 30, 31, 32, 33, 34, 35, 36, 37, 38, 39, 40, 41, 42, 43, 44, 45, 46, 47, 48, 49}, {50, 51, 52, 53, 54, 55, 56, 57, 58, 59, 60, 61, 62, 63, 64, 65, 66, 67, 68, 69, 70, 71, 72, 73, 74, 75, 76, 77, 78, 79, 80, 81, 82, 83, 84, 85, 86, 87, 88, 89, 90, 91, 92, 93, 94, 95, 96, 97, 98, 99}]\n",
      "Time taken for our implementation: 0.04031062126159668\n"
     ]
    },
    {
     "data": {
      "image/png": "[encoded data removed]",
      "text/plain": [
       "<Figure size 640x480 with 1 Axes>"
      ]
     },
     "metadata": {},
     "output_type": "display_data"
    },
    {
     "data": {
      "image/png": "[encoded data removed]",
      "text/plain": [
       "<Figure size 640x480 with 1 Axes>"
      ]
     },
     "metadata": {},
     "output_type": "display_data"
    },
    {
     "name": "stdout",
     "output_type": "stream",
     "text": [
      "The NMI score of original Louvain compared to true label: 1.0\n",
      "The NMI score of our implementation compared to true label: 1.0\n",
      "Are the two partitions same? True\n"
     ]
    }
   ],
   "source": [
    "import debug as debug\n",
    "import matplotlib.pyplot as plt\n",
    "from collections import defaultdict, deque\n",
    "import itertools\n",
    "from sklearn.metrics.cluster import normalized_mutual_info_score as NMI\n",
    "\n",
    "nx_comm.louvain._one_level=debug._one_level\n",
    "\n",
    "\n",
    "#run time recording\n",
    "import time\n",
    "start = time.time()\n",
    "og_partition = nx_comm.louvain.louvain_partitions(G, seed=0)\n",
    "\n",
    "final_partition_1 = deque(og_partition, maxlen=1).pop()\n",
    "end = time.time()\n",
    "\n",
    "\n",
    "print(final_partition_1)\n",
    "\n",
    "print(\"Time taken for original Louvain:\",end-start)\n",
    "\n",
    "label_1=np.zeros((n_s))\n",
    "c=0\n",
    "for sets in final_partition_1:\n",
    "    for ell in sets:\n",
    "        label_1[ell]=c\n",
    "    \n",
    "    c=c+1\n",
    "\n",
    "\n",
    "start = time.time()\n",
    "partition = Real_Custom.louvain_partitions(G, seed=0)\n",
    "\n",
    "final_partition_2 = deque(partition, maxlen=1).pop()\n",
    "end = time.time()\n",
    "print(final_partition_2)\n",
    "print(\"Time taken for our implementation:\",end-start)\n",
    "\n",
    "label_2=np.zeros((n_s))\n",
    "c=0\n",
    "for sets in final_partition_2:\n",
    "    for ell in sets:\n",
    "        label_2[ell]=c\n",
    "    c=c+1\n",
    "\n",
    "\n",
    "xaxis=[i for i in range(n_s)]\n",
    "\n",
    "plt.Figure()\n",
    "plt.scatter(xaxis,label_1,s=2,color='green')\n",
    "plt.show()\n",
    "\n",
    "plt.Figure()\n",
    "plt.scatter(xaxis,label_2,s=2,color='red')\n",
    "plt.show()\n",
    "\n",
    "print(\"The NMI score of original Louvain compared to true label:\",round(NMI(label,label_1),3))\n",
    "print(\"The NMI score of our implementation compared to true label:\",round(NMI(label,label_2),3))\n",
    "\n",
    "#Check if two partitions are same\n",
    "print(\"Are the two partitions same?\",final_partition_1==final_partition_2)"
   ]
  },
  {
   "cell_type": "markdown",
   "metadata": {},
   "source": [
    "## FlowRank & Custom Modularity Function"
   ]
  },
  {
   "cell_type": "code",
   "execution_count": 23,
   "metadata": {},
   "outputs": [],
   "source": [
    "#Directed graph example\n",
    "\n",
    "n_s=100\n",
    "val = np.random.uniform(low=0.0, high=1.0, size=(n_s, n_s))\n",
    "\n",
    "label=np.zeros((n_s))\n",
    "\n",
    "for i in range(n_s//2,n_s):\n",
    "    label[i]=1\n",
    "\n",
    "\n",
    "G = nx.DiGraph()\n",
    "\n",
    "for i in range(n_s):\n",
    "    for j in range(n_s):\n",
    "\n",
    "        if((i<=n_s//2 and j <=n_s//2) or (i>n_s//2 and j>n_s//2)):\n",
    "            if(val[i][j]>0.3 and ((j<=25) or (j>=75))): #j = core\n",
    "                G.add_edge(i,j,weight=1)\n",
    "            elif(val[i][j]>0.9):\n",
    "                G.add_edge(i,j,weight=1)\n",
    "        else:\n",
    "            if(val[i][j]>0.99):\n",
    "                G.add_edge(i,j,weight=1)\n",
    "\n",
    "\n",
    "#G.add_edges_from([(1,2),(2,3),(3,1),(1,4),(4,1),(4,5),(5,4),(5,6),(6,3),(3,6),(6,2),(2,6),(4,7),(7,5),(7,4)])\n",
    "\n",
    "# G = nx.DiGraph()\n",
    "# G.add_nodes_from([1,2,3])\n",
    "# G.add_edges_from([(2,3),(1,3),(3,1)])#visualize\n",
    "#nx.draw(G, with_labels=True)"
   ]
  },
  {
   "cell_type": "code",
   "execution_count": 24,
   "metadata": {},
   "outputs": [
    {
     "name": "stdout",
     "output_type": "stream",
     "text": [
      "100\n",
      "100\n"
     ]
    },
    {
     "name": "stderr",
     "output_type": "stream",
     "text": [
      "i:\\내 드라이브\\backup\\document\\USC\\Research\\MCPC\\Code\\Codes\\FlowRank.py:178: RuntimeWarning: divide by zero encountered in scalar divide\n",
      "  rank[v]=rank[v]+ 1/((max(v_cover[vset]))/(v_cover[v]))\n"
     ]
    },
    {
     "data": {
      "text/plain": [
       "<matplotlib.collections.PathCollection at 0x21acb1ca0c0>"
      ]
     },
     "execution_count": 24,
     "metadata": {},
     "output_type": "execute_result"
    },
    {
     "data": {
      "image/png": "[encoded data removed]",
      "text/plain": [
       "<Figure size 640x480 with 1 Axes>"
      ]
     },
     "metadata": {},
     "output_type": "display_data"
    }
   ],
   "source": [
    "\n",
    "import matplotlib.pyplot as plt\n",
    "\n",
    "\n",
    "v_cover_order=FR.FLOW(G.edges(),G.nodes(),1)\n",
    "print(n_s)\n",
    "xv=[i for i in range(n_s)]\n",
    "\n",
    "yv=np.zeros((n_s))\n",
    "for i in range(n_s):\n",
    "    idx=int(v_cover_order[i,1])\n",
    "    val=v_cover_order[i,0]\n",
    "    yv[idx]=val\n",
    "\n",
    "\n",
    "plt.Figure()\n",
    "plt.scatter(xv,yv)\n",
    "\n"
   ]
  },
  {
   "cell_type": "markdown",
   "metadata": {},
   "source": [
    "Check FlowRank function"
   ]
  },
  {
   "cell_type": "code",
   "execution_count": 25,
   "metadata": {},
   "outputs": [
    {
     "name": "stdout",
     "output_type": "stream",
     "text": [
      "{13: 1.0, 76: 1.0, 85: 1.0, 15: 0.9767441860465115, 22: 0.9767441860465115, 17: 0.9685039370078741, 8: 0.9647058823529413, 78: 0.9523809523809526, 84: 0.9512195121951219, 92: 0.9473684210526315, 81: 0.9440993788819878, 14: 0.9382716049382717, 99: 0.9367088607594937, 12: 0.9341317365269461, 3: 0.9330143540669857, 7: 0.9330143540669857, 18: 0.9325153374233129, 10: 0.9285714285714286, 86: 0.926829268292683, 97: 0.9230769230769231, 77: 0.9210526315789476, 23: 0.9203980099502487, 21: 0.9187935034802786, 19: 0.9183673469387754, 24: 0.9181141439205956, 4: 0.9135802469135802, 88: 0.9113924050632911, 98: 0.9090909090909093, 20: 0.9074074074074074, 89: 0.9066666666666666, 82: 0.9032258064516129, 25: 0.902506963788301, 96: 0.891891891891892, 93: 0.8900523560209423, 0: 0.8860759493670887, 2: 0.8837920489296636, 5: 0.8779342723004695, 75: 0.8672086720867209, 83: 0.8648648648648649, 9: 0.8621190130624095, 95: 0.861111111111111, 6: 0.8564013840830451, 91: 0.8561872909698994, 16: 0.8540031397174254, 80: 0.8413361169102295, 94: 0.8348794063079776, 79: 0.8304498269896194, 87: 0.771186440677966, 11: 0.7619783616692426, 90: 0.7407407407407407, 1: 0.7276595744680849, 27: 0.32085561497326204, 55: 0.31919642857142855, 29: 0.29569892473118276, 58: 0.28642590286425906, 39: 0.27681660899653976, 67: 0.2658788774002955, 72: 0.26470588235294124, 43: 0.25190839694656486, 56: 0.2492581602373887, 70: 0.2402402402402402, 73: 0.22857142857142856, 45: 0.22459893048128335, 38: 0.21857923497267756, 71: 0.21314387211367677, 44: 0.18945868945868943, 63: 0.1884816753926702, 28: 0.18749999999999994, 52: 0.17940199335548174, 40: 0.17550274223034737, 33: 0.1746216530849825, 46: 0.17457886676875953, 30: 0.1702838063439065, 35: 0.16666666666666663, 42: 0.16297262059973924, 65: 0.15472312703583066, 57: 0.1532033426183844, 51: 0.15209125475285173, 37: 0.14844804318488525, 26: 0.14619883040935674, 34: 0.14554794520547948, 41: 0.14347202295552366, 50: 0.14231499051233398, 53: 0.13620071684587814, 48: 0.1337209302325581, 60: 0.12698412698412698, 61: 0.12102874432677763, 54: 0.1206896551724138, 62: 0.1195814648729447, 32: 0.11947431302270009, 66: 0.11930926216640503, 49: 0.11782945736434104, 68: 0.11594202898550725, 69: 0.10452961672473868, 59: 0.09532710280373834, 64: 0.09283387622149836, 47: 0.09007832898172322, 36: 0.08201438848920861, 31: 0.061583577712609965, 74: 0.0}\n"
     ]
    }
   ],
   "source": [
    "import FlowRank as FR\n",
    "#print(FR.FLOW_ng(G.edges(),G.nodes(),1)) # (FR, Node#)\n",
    "\n",
    "node2FR = dict()\n",
    "for i in FR.FLOW_ng(G.edges(),G.nodes(),1):\n",
    "    node_num = int(i[1])\n",
    "    node2FR[node_num] = i[0]\n",
    "\n",
    "print(node2FR)"
   ]
  },
  {
   "cell_type": "markdown",
   "metadata": {},
   "source": [
    "## Loading dataset"
   ]
  },
  {
   "cell_type": "code",
   "execution_count": 29,
   "metadata": {},
   "outputs": [],
   "source": [
    "from sklearn.decomposition import PCA\n",
    "from sklearn.preprocessing import LabelEncoder\n",
    "import pandas as pd\n",
    "import numpy as np\n",
    "from pynndescent import NNDescent\n",
    "from tqdm import tqdm\n",
    "import matplotlib.pyplot as plt\n",
    "from sklearn.decomposition import TruncatedSVD\n",
    "# from scanpy import read_h5ad\n",
    "# import utils\n",
    "import scipy\n",
    "from scipy import sparse\n",
    "import metric as met \n",
    "# import simulation as simm\n",
    "# import embedding as embed"
   ]
  },
  {
   "cell_type": "code",
   "execution_count": 27,
   "metadata": {},
   "outputs": [],
   "source": [
    "# data = sparse.load_npz('I:/내 드라이브/backup/document/USC/Research/MCPC/pca-benchmarks/pca-benchmarks/data/ALM/data.npz')\n",
    "# data = data.todense()\n",
    "# data = np.array(data)\n"
   ]
  },
  {
   "cell_type": "code",
   "execution_count": 33,
   "metadata": {},
   "outputs": [
    {
     "name": "stdout",
     "output_type": "stream",
     "text": [
      "Zhengmix 3994\n",
      "Log transform done\n",
      "(3994, 50)\n",
      "Accuracy of  20 -NN graph is 0.785\n"
     ]
    }
   ],
   "source": [
    "name='Zhengmix'\n",
    "kchoice=20 #k neighbors in KNN\n",
    "datapath = 'I:/내 드라이브/backup/document/USC/Research/MCPC/pca-benchmarks/pca-benchmarks/data/'\n",
    "\n",
    "X = scipy.sparse.load_npz(datapath+name + '/data.npz')\n",
    "label = np.load(datapath+name+'/labels.npy')\n",
    "print(name,len(label))\n",
    "\n",
    "#Log transform+PCA\n",
    "X.data = np.log1p(X.data)\n",
    "print(\"Log transform done\")\n",
    "pca = TruncatedSVD(n_components=50)\n",
    "PX = pca.fit_transform(X)\n",
    "n=PX.shape[0]\n",
    "walk_len_c1=int(np.log2(n))\n",
    "print(PX.shape)\n",
    "\n",
    "\n",
    "#Calculte inital KNN accuracy\n",
    "met.KNN_graph_acc(PX,kchoice,0,label)\n",
    "\n",
    "# #Get the KNN edgelist\n",
    "edge_list,vlist=embed.dir_KNN_graph(PX,kchoice,0)\n",
    "# print(len(edge_list))"
   ]
  },
  {
   "cell_type": "code",
   "execution_count": null,
   "metadata": {},
   "outputs": [],
   "source": []
  }
 ],
 "metadata": {
  "kernelspec": {
   "display_name": "Python 3",
   "language": "python",
   "name": "python3"
  },
  "language_info": {
   "codemirror_mode": {
    "name": "ipython",
    "version": 3
   },
   "file_extension": ".py",
   "mimetype": "text/x-python",
   "name": "python",
   "nbconvert_exporter": "python",
   "pygments_lexer": "ipython3",
   "version": "3.10.1"
  }
 },
 "nbformat": 4,
 "nbformat_minor": 2
}
