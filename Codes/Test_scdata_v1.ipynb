{
 "cells": [
  {
   "cell_type": "code",
   "execution_count": null,
   "metadata": {},
   "outputs": [],
   "source": [
    "import sys\n",
    "sys.path.append('/Users/chandrasekharmukherjee/Home/Centrality framework/Modules')\n",
    "sys.path.append('/Users/chandrasekharmukherjee/Home/Centrality framework/Viz')\n",
    "sys.path.append('/Users/chandrasekharmukherjee/Home/Centrality framework/MCPC_Clustering/Codes')\n",
    "\n",
    "datapath='/Users/chandrasekharmukherjee/Home/Centrality framework/SCRNA_benchmark/'\n"
   ]
  },
  {
   "cell_type": "code",
   "execution_count": null,
   "metadata": {},
   "outputs": [],
   "source": [
    "#Import packages\n",
    "#imports\n",
    "import time\n",
    "import pandas as pd\n",
    "from collections import Counter\n",
    "import sknetwork\n",
    "\n",
    "\n",
    "from sknetwork.ranking import PageRank\n",
    "from sknetwork.ranking import Betweenness\n",
    "from sknetwork.ranking import Closeness\n",
    "\n",
    "import umap as umap\n",
    "\n",
    "from numba.typed import List\n",
    "import warnings\n",
    "from numba import njit\n",
    "import pynndescent\n",
    "import numpy as np\n",
    "from sklearn.cluster import SpectralClustering\n",
    "import numpy as np\n",
    "from sklearn.decomposition import PCA\n",
    "import matplotlib.pyplot as plt\n",
    "import matplotlib\n",
    "import operator\n",
    "from sklearn.utils.extmath import randomized_svd\n",
    "from random import randint\n",
    "from sklearn.utils.extmath import randomized_svd\n",
    "from sklearn.decomposition import TruncatedSVD\n",
    "import scipy\n",
    "from umap.umap_ import *\n",
    "import math\n",
    "from random import randint\n",
    "import keras\n",
    "from keras.datasets import mnist\n",
    "from keras.datasets import cifar10\n",
    "from keras.datasets import cifar100\n",
    "from keras.datasets import fashion_mnist\n",
    "import scanpy\n",
    "from sklearn.metrics.cluster import normalized_mutual_info_score\n",
    "from sklearn.metrics import adjusted_mutual_info_score, roc_auc_score\n",
    "from sklearn.metrics.cluster import adjusted_rand_score\n",
    "from sklearn.metrics.cluster import adjusted_mutual_info_score\n",
    "\n",
    "import community as community_louvain\n",
    "from sklearn.cluster import KMeans\n",
    "from sklearn.metrics import fowlkes_mallows_score\n",
    "\n",
    "from plots import *\n",
    "import scipy\n",
    "\n",
    "import igraph \n",
    "import networkx as nx\n",
    "\n",
    "\n",
    "from sklearn.metrics.cluster import normalized_mutual_info_score as NMI\n"
   ]
  },
  {
   "cell_type": "code",
   "execution_count": null,
   "metadata": {},
   "outputs": [],
   "source": [
    "%load_ext autoreload\n",
    "%autoreload 2\n",
    "import importlib\n",
    "\n",
    "from plots import *\n",
    "\n",
    "\n",
    "import benchmark as bmarks\n",
    "import metric as met \n",
    "import FlowRank as algo\n",
    "import datasets as dsets\n",
    "import simulation as simm\n",
    "import embedding as embed\n",
    "import newflow as newalgo\n",
    "import Relative_centrality_v2 as new_score\n",
    "import Real_Custom_v2 as MCPC_cluster\n",
    "\n",
    "met=importlib.reload(met)\n",
    "newalgo=importlib.reload(newalgo)\n",
    "algo = importlib.reload(algo)\n",
    "dsets = importlib.reload(dsets)\n",
    "simm = importlib.reload(simm)\n",
    "embed=importlib.reload(embed)\n",
    "bmarks=importlib.reload(bmarks)\n",
    "new_score=importlib.reload(new_score)\n",
    "\n",
    "\n",
    "MCPC_cluster=importlib.reload(MCPC_cluster)\n",
    "\n"
   ]
  },
  {
   "cell_type": "code",
   "execution_count": null,
   "metadata": {},
   "outputs": [],
   "source": [
    "datanames = ['Baron_Human', 'Baron_Mouse', 'Muraro', 'Segerstolpe','Xin', 'Zhengmix8eq','Tcell-medicine','ALM', 'AMB', 'TM', 'VISP']\n"
   ]
  },
  {
   "cell_type": "code",
   "execution_count": null,
   "metadata": {},
   "outputs": [],
   "source": [
    "name='Zhengmix8eq'\n",
    "kchoice=20\n",
    "\n",
    "X = scipy.sparse.load_npz(datapath+name + '/data.npz')\n",
    "label = np.load(datapath+name+'/labels.npy')\n",
    "print(name,len(label))\n",
    "\n",
    "#Log transform+PCA\n",
    "X.data = np.log1p(X.data)\n",
    "print(\"Log transform done\")\n",
    "pca = TruncatedSVD(n_components=50)\n",
    "PX = pca.fit_transform(X)\n",
    "n=PX.shape[0]\n",
    "walk_len_c1=int(np.log2(n))\n",
    "print(PX.shape)\n",
    "\n",
    "\n",
    "#Calculte inital KNN accuracy\n",
    "met.KNN_graph_acc(PX,kchoice,0,label)\n",
    "\n",
    "#Get the KNN edgelist\n",
    "edge_list,vlist=embed.dir_KNN_graph(PX,kchoice,0)\n",
    "print(len(edge_list))"
   ]
  },
  {
   "cell_type": "code",
   "execution_count": null,
   "metadata": {},
   "outputs": [],
   "source": [
    "# This code is to test Louvain Method with custom Modularity Function\n",
    "import numpy as np\n",
    "import networkx as nx\n",
    "import networkx.algorithms.community.quality as nx_quality\n",
    "import networkx.algorithms.community as nx_comm\n",
    "# from Custom_Func import directed_modularity, modularity, _one_level\n",
    "\n",
    "import Custom_Func as Custom_Func"
   ]
  },
  {
   "cell_type": "code",
   "execution_count": null,
   "metadata": {},
   "outputs": [],
   "source": [
    "from collections import defaultdict, deque\n",
    "\n",
    "def get_labels(partition,n_s):\n",
    "    final_partition_1 = deque(partition, maxlen=1).pop()\n",
    "    #print(final_partition_1)\n",
    "\n",
    "\n",
    "    label_1=np.zeros((n_s))\n",
    "    c=0\n",
    "    for sets in final_partition_1:\n",
    "        for ell in sets:\n",
    "            label_1[ell]=c\n",
    "        \n",
    "        c=c+1\n",
    "\n",
    "    return label_1"
   ]
  },
  {
   "cell_type": "code",
   "execution_count": null,
   "metadata": {},
   "outputs": [],
   "source": [
    "import tensorflow as tf\n",
    "import random\n",
    "(x_train, y_train), (x_test, y_test)=tf.keras.datasets.fashion_mnist.load_data()\n",
    "\n",
    "print(x_train.shape,y_train.shape)\n",
    "\n",
    "X_F=x_train.reshape(x_train.shape[0], 784)\n",
    "print(X_F.shape)\n",
    "label_F=y_train\n",
    "\n",
    "seq=[i for i in range(n)]\n",
    "subset=random.sample(seq, n//5)\n",
    "\n",
    "X=X_F[subset,:]\n",
    "label=label_F[subset]\n",
    "\n",
    "pca = TruncatedSVD(n_components=50)\n",
    "PX = pca.fit_transform(X)\n",
    "n=PX.shape[0]\n",
    "walk_len_c1=int(np.log2(n))\n",
    "print(PX.shape)\n",
    "\n",
    "\n",
    "#Calculte inital KNN accuracy\n",
    "met.KNN_graph_acc(PX,kchoice,0,label)\n",
    "\n",
    "#Get the KNN edgelist\n",
    "edge_list,vlist=embed.dir_KNN_graph(PX,kchoice,0)\n",
    "print(len(edge_list))\n"
   ]
  },
  {
   "cell_type": "code",
   "execution_count": null,
   "metadata": {},
   "outputs": [],
   "source": [
    "def plot_Loivain_NMI_purity(G,label,res_list):\n",
    "\n",
    "    nmi=[]\n",
    "    pr=[]\n",
    "    for res in res_list:\n",
    "        partition = nx_comm.louvain.louvain_partitions(G, seed=0,resolution=res)\n",
    "        label_new=get_labels(partition,n)\n",
    "        \n",
    "        nmi_temp=NMI(label,label_new)\n",
    "        pr_temp=met.purity_score(label,label_new)\n",
    "\n",
    "        nmi.append(nmi_temp)\n",
    "        pr.append(pr_temp)\n",
    "\n",
    "\n",
    "    return nmi,pr\n",
    "\n",
    "\n",
    "def plot_MCPC_NMI_purity(G,label,res_list):\n",
    "\n",
    "    nmi=[]\n",
    "    pr=[]\n",
    "\n",
    "    for res in res_list:\n",
    "        partition1=MCPC_cluster.louvain_partitions(G, seed=0,resolution=res)\n",
    "        label_new1=get_labels(partition1,n)\n",
    "\n",
    "\n",
    "        nmi_temp=NMI(label,label_new1)\n",
    "        pr_temp=met.purity_score(label,label_new1)\n",
    "\n",
    "        nmi.append(nmi_temp)\n",
    "        pr.append(pr_temp)\n"
   ]
  },
  {
   "cell_type": "code",
   "execution_count": 80,
   "metadata": {},
   "outputs": [
    {
     "name": "stdout",
     "output_type": "stream",
     "text": [
      "3994\n"
     ]
    },
    {
     "name": "stderr",
     "output_type": "stream",
     "text": [
      "/Users/chandrasekharmukherjee/Home/Centrality framework/MCPC_Clustering/Codes/FlowRank.py:178: RuntimeWarning: divide by zero encountered in double_scalars\n",
      "  rank[v]=rank[v]+ 1/((max(v_cover[vset]))/(v_cover[v]))\n"
     ]
    }
   ],
   "source": [
    "\n",
    "node2FR = dict()\n",
    "\n",
    "\n",
    "\n",
    "for i in algo.FLOW(edge_list,vlist,int(np.log2(n))):\n",
    "    node_num = int(i[1])\n",
    "    node2FR[node_num] = i[0]\n",
    "\n",
    "G = nx.DiGraph()\n",
    "\n",
    "G_wt=nx.DiGraph()\n",
    "\n",
    "for (u,v) in edge_list:\n",
    "    wt=(node2FR[u] * node2FR[v])**2\n",
    "    G.add_edge(u,v,weight=1)\n",
    "    G_wt.add_edge(u,v,weight=wt)\n",
    "\n",
    "res_list=[i/100 for i in range(20,300,10)]\n",
    "xv1,yv1=plot_Loivain_NMI_purity(G,label,res_list)\n",
    "res_list=[i/100 for i in range(20,300,10)]\n",
    "xv2,yv2=plot_Loivain_NMI_purity(G_wt,label,res_list)\n",
    "\n",
    "\n"
   ]
  },
  {
   "cell_type": "code",
   "execution_count": 82,
   "metadata": {},
   "outputs": [],
   "source": [
    "res_list=[i/10 for i in range(5,30,2)]\n",
    "xv1,yv1=plot_Loivain_NMI_purity(G,label,res_list)\n",
    "xv2,yv2=plot_Loivain_NMI_purity(G_wt,label,res_list)"
   ]
  },
  {
   "cell_type": "code",
   "execution_count": 83,
   "metadata": {},
   "outputs": [
    {
     "data": {
      "text/plain": [
       "<matplotlib.collections.PathCollection at 0x2ac2421a0>"
      ]
     },
     "execution_count": 83,
     "metadata": {},
     "output_type": "execute_result"
    },
    {
     "data": {
      "image/png": "[encoded data removed]",
      "text/plain": [
       "<Figure size 432x288 with 1 Axes>"
      ]
     },
     "metadata": {
      "needs_background": "light"
     },
     "output_type": "display_data"
    }
   ],
   "source": [
    "plt.Figure(figsize=(10,6))\n",
    "\n",
    "plt.scatter(xv1,yv1,color='red')\n",
    "plt.scatter(xv2,yv2,color='green')"
   ]
  },
  {
   "cell_type": "code",
   "execution_count": null,
   "metadata": {},
   "outputs": [],
   "source": [
    "G = nx.DiGraph()\n",
    "for (u,v) in edge_list:\n",
    "    G.add_edge(u,v,weight=1)\n",
    "\n",
    "#nx_comm.louvain._one_level=Custom_Func._one_level\n",
    "\n",
    "res_list=[1,1.5,]\n",
    "\n",
    "for res in res_list:\n",
    "    partition = nx_comm.louvain.louvain_partitions(G, seed=0,resolution=res)\n",
    "    label_new=get_labels(partition,n)\n",
    "    print(round(NMI(label,label_new),2),round(met.purity_score(label,label_new),2),len(set(label_new)),res)\n",
    "\n",
    "print(\"\\n\\n\")\n",
    "\n",
    "res_list=[1,2.5,5,17,34,51,68]\n",
    "\n",
    "\n",
    "for res in res_list:\n",
    "    partition1=MCPC_cluster.louvain_partitions(G, seed=0,resolution=res)\n",
    "    label_new1=get_labels(partition1,n)\n",
    "    print(round(NMI(label,label_new1),2),round(met.purity_score(label,label_new1),2),len(set(label_new1)),res)\n"
   ]
  },
  {
   "cell_type": "code",
   "execution_count": null,
   "metadata": {},
   "outputs": [],
   "source": [
    "print(len(set(label_new1)))"
   ]
  },
  {
   "cell_type": "code",
   "execution_count": null,
   "metadata": {},
   "outputs": [],
   "source": []
  }
 ],
 "metadata": {
  "kernelspec": {
   "display_name": "Python 3",
   "language": "python",
   "name": "python3"
  },
  "language_info": {
   "codemirror_mode": {
    "name": "ipython",
    "version": 3
   },
   "file_extension": ".py",
   "mimetype": "text/x-python",
   "name": "python",
   "nbconvert_exporter": "python",
   "pygments_lexer": "ipython3",
   "version": "3.10.1"
  }
 },
 "nbformat": 4,
 "nbformat_minor": 2
}
