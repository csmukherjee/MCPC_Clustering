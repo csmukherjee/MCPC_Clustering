{
 "cells": [
  {
   "cell_type": "code",
   "execution_count": 1,
   "metadata": {},
   "outputs": [],
   "source": [
    "import sys\n",
    "sys.path.append('/Users/chandrasekharmukherjee/Home/Centrality framework/Modules')\n",
    "sys.path.append('/Users/chandrasekharmukherjee/Home/Centrality framework/Viz')\n",
    "sys.path.append('/Users/chandrasekharmukherjee/Home/Centrality framework/MCPC_Clustering/Codes')\n",
    "\n",
    "datapath='/Users/chandrasekharmukherjee/Home/Centrality framework/SCRNA_benchmark/'\n"
   ]
  },
  {
   "cell_type": "code",
   "execution_count": 2,
   "metadata": {},
   "outputs": [],
   "source": [
    "#Import packages\n",
    "#imports\n",
    "import time\n",
    "import pandas as pd\n",
    "from collections import Counter\n",
    "import sknetwork\n",
    "\n",
    "\n",
    "from sknetwork.ranking import PageRank\n",
    "from sknetwork.ranking import Betweenness\n",
    "from sknetwork.ranking import Closeness\n",
    "\n",
    "import umap as umap\n",
    "\n",
    "from numba.typed import List\n",
    "import warnings\n",
    "from numba import njit\n",
    "import pynndescent\n",
    "import numpy as np\n",
    "from sklearn.cluster import SpectralClustering\n",
    "import numpy as np\n",
    "from sklearn.decomposition import PCA\n",
    "import matplotlib.pyplot as plt\n",
    "import matplotlib\n",
    "import operator\n",
    "from sklearn.utils.extmath import randomized_svd\n",
    "from random import randint\n",
    "from sklearn.utils.extmath import randomized_svd\n",
    "from sklearn.decomposition import TruncatedSVD\n",
    "import scipy\n",
    "from umap.umap_ import *\n",
    "import math\n",
    "from random import randint\n",
    "import keras\n",
    "from keras.datasets import mnist\n",
    "from keras.datasets import cifar10\n",
    "from keras.datasets import cifar100\n",
    "from keras.datasets import fashion_mnist\n",
    "import scanpy\n",
    "from sklearn.metrics.cluster import normalized_mutual_info_score\n",
    "from sklearn.metrics import adjusted_mutual_info_score, roc_auc_score\n",
    "from sklearn.metrics.cluster import adjusted_rand_score\n",
    "from sklearn.metrics.cluster import adjusted_mutual_info_score\n",
    "\n",
    "import community as community_louvain\n",
    "from sklearn.cluster import KMeans\n",
    "from sklearn.metrics import fowlkes_mallows_score\n",
    "\n",
    "from plots import *\n",
    "import scipy\n",
    "\n",
    "import igraph \n",
    "import networkx as nx\n",
    "\n",
    "\n",
    "from sklearn.metrics.cluster import normalized_mutual_info_score as NMI\n"
   ]
  },
  {
   "cell_type": "code",
   "execution_count": 5,
   "metadata": {},
   "outputs": [
    {
     "name": "stdout",
     "output_type": "stream",
     "text": [
      "The autoreload extension is already loaded. To reload it, use:\n",
      "  %reload_ext autoreload\n"
     ]
    }
   ],
   "source": [
    "%load_ext autoreload\n",
    "%autoreload 2\n",
    "import importlib\n",
    "\n",
    "from plots import *\n",
    "\n",
    "\n",
    "import benchmark as bmarks\n",
    "import metric as met \n",
    "import FlowRank as algo\n",
    "import datasets as dsets\n",
    "import simulation as simm\n",
    "import embedding as embed\n",
    "import newflow as newalgo\n",
    "import Relative_centrality_v2 as new_score\n",
    "import Real_Custom_v2 as MCPC_cluster\n",
    "\n",
    "met=importlib.reload(met)\n",
    "newalgo=importlib.reload(newalgo)\n",
    "algo = importlib.reload(algo)\n",
    "dsets = importlib.reload(dsets)\n",
    "simm = importlib.reload(simm)\n",
    "embed=importlib.reload(embed)\n",
    "bmarks=importlib.reload(bmarks)\n",
    "new_score=importlib.reload(new_score)\n",
    "\n",
    "\n",
    "MCPC_cluster=importlib.reload(MCPC_cluster)\n",
    "\n"
   ]
  },
  {
   "cell_type": "code",
   "execution_count": 6,
   "metadata": {},
   "outputs": [],
   "source": [
    "datanames = ['Baron_Human', 'Baron_Mouse', 'Muraro', 'Segerstolpe','Xin', 'Zhengmix8eq','Tcell-medicine','ALM', 'AMB', 'TM', 'VISP']\n"
   ]
  },
  {
   "cell_type": "code",
   "execution_count": 19,
   "metadata": {},
   "outputs": [
    {
     "name": "stdout",
     "output_type": "stream",
     "text": [
      "Zhengmix8eq 3994\n",
      "Log transform done\n",
      "(3994, 50)\n",
      "Accuracy of  20 -NN graph is 0.784\n",
      "79880\n"
     ]
    }
   ],
   "source": [
    "name='Zhengmix8eq'\n",
    "kchoice=20\n",
    "\n",
    "X = scipy.sparse.load_npz(datapath+name + '/data.npz')\n",
    "label = np.load(datapath+name+'/labels.npy')\n",
    "print(name,len(label))\n",
    "\n",
    "#Log transform+PCA\n",
    "X.data = np.log1p(X.data)\n",
    "print(\"Log transform done\")\n",
    "pca = TruncatedSVD(n_components=50)\n",
    "PX = pca.fit_transform(X)\n",
    "n=PX.shape[0]\n",
    "walk_len_c1=int(np.log2(n))\n",
    "print(PX.shape)\n",
    "\n",
    "\n",
    "#Calculte inital KNN accuracy\n",
    "met.KNN_graph_acc(PX,kchoice,0,label)\n",
    "\n",
    "#Get the KNN edgelist\n",
    "edge_list,vlist=embed.dir_KNN_graph(PX,kchoice,0)\n",
    "print(len(edge_list))"
   ]
  },
  {
   "cell_type": "code",
   "execution_count": 8,
   "metadata": {},
   "outputs": [],
   "source": [
    "# This code is to test Louvain Method with custom Modularity Function\n",
    "import numpy as np\n",
    "import networkx as nx\n",
    "import networkx.algorithms.community.quality as nx_quality\n",
    "import networkx.algorithms.community as nx_comm\n",
    "# from Custom_Func import directed_modularity, modularity, _one_level\n",
    "\n",
    "import Custom_Func as Custom_Func"
   ]
  },
  {
   "cell_type": "code",
   "execution_count": 9,
   "metadata": {},
   "outputs": [],
   "source": [
    "from collections import defaultdict, deque\n",
    "\n",
    "def get_labels(partition,n_s):\n",
    "    final_partition_1 = deque(partition, maxlen=1).pop()\n",
    "    #print(final_partition_1)\n",
    "\n",
    "\n",
    "    label_1=np.zeros((n_s))\n",
    "    c=0\n",
    "    for sets in final_partition_1:\n",
    "        for ell in sets:\n",
    "            label_1[ell]=c\n",
    "        \n",
    "        c=c+1\n",
    "\n",
    "    return label_1"
   ]
  },
  {
   "cell_type": "code",
   "execution_count": 23,
   "metadata": {},
   "outputs": [
    {
     "name": "stdout",
     "output_type": "stream",
     "text": [
      "0.5 0.8 0.67\n",
      "0.6 0.76 0.74\n",
      "0.7 0.77 0.74\n",
      "0.8 0.74 0.81\n",
      "0.9 0.73 0.81\n",
      "1 0.72 0.8\n",
      "1.1 0.71 0.78\n",
      "1.2 0.7 0.81\n",
      "1.3 0.69 0.81\n",
      "1.5 0.7 0.81\n",
      "2 0.68 0.81\n",
      "2.5 0.68 0.82\n",
      "3 0.66 0.82\n",
      "4 0.63 0.83\n",
      "\n",
      "\n",
      "\n",
      "1 0.8 0.66\n",
      "2 0.8 0.66\n",
      "3 0.77 0.67\n",
      "4 0.74 0.73\n",
      "5 0.72 0.73\n",
      "6 0.7 0.73\n",
      "7 0.73 0.8\n",
      "8 0.71 0.81\n",
      "9 0.71 0.82\n",
      "10 0.7 0.8\n",
      "11 0.71 0.82\n",
      "12 0.7 0.83\n"
     ]
    }
   ],
   "source": [
    "G = nx.DiGraph()\n",
    "for (u,v) in edge_list:\n",
    "    G.add_edge(u,v,weight=1)\n",
    "\n",
    "#nx_comm.louvain._one_level=Custom_Func._one_level\n",
    "\n",
    "res_list=[0.5,0.6,0.7,0.8,0.9,1,1.1,1.2,1.3,1.5,2,2.5,3,4]\n",
    "\n",
    "for res in res_list:\n",
    "    partition = nx_comm.louvain.louvain_partitions(G, seed=0,resolution=res)\n",
    "    label_new=get_labels(partition,n)\n",
    "    print(res,round(NMI(label,label_new),2),round(met.purity_score(label,label_new),2))\n",
    "\n",
    "print(\"\\n\\n\")\n",
    "\n",
    "res_list=[1,2,3,4,5,6,7,8,9,10,11,12]\n",
    "\n",
    "\n",
    "for res in res_list:\n",
    "    partition1=MCPC_cluster.louvain_partitions(G, seed=0,resolution=res)\n",
    "    label_new1=get_labels(partition1,n)\n",
    "    print(res,round(NMI(label,label_new1),2),round(met.purity_score(label,label_new1),2))\n"
   ]
  },
  {
   "cell_type": "code",
   "execution_count": 21,
   "metadata": {},
   "outputs": [
    {
     "name": "stdout",
     "output_type": "stream",
     "text": [
      "5\n"
     ]
    }
   ],
   "source": [
    "print(len(set(label_new1)))"
   ]
  },
  {
   "cell_type": "code",
   "execution_count": null,
   "metadata": {},
   "outputs": [],
   "source": []
  }
 ],
 "metadata": {
  "kernelspec": {
   "display_name": "Python 3",
   "language": "python",
   "name": "python3"
  },
  "language_info": {
   "codemirror_mode": {
    "name": "ipython",
    "version": 3
   },
   "file_extension": ".py",
   "mimetype": "text/x-python",
   "name": "python",
   "nbconvert_exporter": "python",
   "pygments_lexer": "ipython3",
   "version": "3.10.1"
  }
 },
 "nbformat": 4,
 "nbformat_minor": 2
}
