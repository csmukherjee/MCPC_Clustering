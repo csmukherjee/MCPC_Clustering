{
 "cells": [
  {
   "cell_type": "code",
   "execution_count": 1,
   "metadata": {},
   "outputs": [],
   "source": [
    "import sys\n",
    "sys.path.append('/Users/chandrasekharmukherjee/Home/Centrality framework/Modules')\n",
    "sys.path.append('/Users/chandrasekharmukherjee/Home/Centrality framework/Viz')\n",
    "sys.path.append('/Users/chandrasekharmukherjee/Home/Centrality framework/MCPC_Clustering/Codes')\n",
    "\n",
    "datapath='/Users/chandrasekharmukherjee/Home/Centrality framework/SCRNA_benchmark/'\n"
   ]
  },
  {
   "cell_type": "code",
   "execution_count": 2,
   "metadata": {},
   "outputs": [],
   "source": [
    "#Import packages\n",
    "#imports\n",
    "import time\n",
    "import pandas as pd\n",
    "from collections import Counter\n",
    "import sknetwork\n",
    "\n",
    "\n",
    "from sknetwork.ranking import PageRank\n",
    "from sknetwork.ranking import Betweenness\n",
    "from sknetwork.ranking import Closeness\n",
    "\n",
    "import umap as umap\n",
    "\n",
    "from numba.typed import List\n",
    "import warnings\n",
    "from numba import njit\n",
    "import pynndescent\n",
    "import numpy as np\n",
    "from sklearn.cluster import SpectralClustering\n",
    "import numpy as np\n",
    "from sklearn.decomposition import PCA\n",
    "import matplotlib.pyplot as plt\n",
    "import matplotlib\n",
    "import operator\n",
    "from sklearn.utils.extmath import randomized_svd\n",
    "from random import randint\n",
    "from sklearn.utils.extmath import randomized_svd\n",
    "from sklearn.decomposition import TruncatedSVD\n",
    "import scipy\n",
    "from umap.umap_ import *\n",
    "import math\n",
    "from random import randint\n",
    "import keras\n",
    "from keras.datasets import mnist\n",
    "from keras.datasets import cifar10\n",
    "from keras.datasets import cifar100\n",
    "from keras.datasets import fashion_mnist\n",
    "import scanpy\n",
    "from sklearn.metrics.cluster import normalized_mutual_info_score\n",
    "from sklearn.metrics import adjusted_mutual_info_score, roc_auc_score\n",
    "from sklearn.metrics.cluster import adjusted_rand_score\n",
    "from sklearn.metrics.cluster import adjusted_mutual_info_score\n",
    "\n",
    "import community as community_louvain\n",
    "from sklearn.cluster import KMeans\n",
    "from sklearn.metrics import fowlkes_mallows_score\n",
    "\n",
    "from plots import *\n",
    "import scipy\n",
    "\n",
    "import igraph \n",
    "import networkx as nx"
   ]
  },
  {
   "cell_type": "code",
   "execution_count": 3,
   "metadata": {},
   "outputs": [],
   "source": [
    "%load_ext autoreload\n",
    "%autoreload 2\n",
    "import importlib\n",
    "\n",
    "from plots import *\n",
    "\n",
    "\n",
    "import benchmark as bmarks\n",
    "import metric as met \n",
    "import FlowRank as algo\n",
    "import datasets as dsets\n",
    "import simulation as simm\n",
    "import embedding as embed\n",
    "import newflow as newalgo\n",
    "import Relative_centrality_v2 as new_score\n",
    "\n",
    "\n",
    "met=importlib.reload(met)\n",
    "newalgo=importlib.reload(newalgo)\n",
    "algo = importlib.reload(algo)\n",
    "dsets = importlib.reload(dsets)\n",
    "simm = importlib.reload(simm)\n",
    "embed=importlib.reload(embed)\n",
    "bmarks=importlib.reload(bmarks)\n",
    "new_score=importlib.reload(new_score)"
   ]
  },
  {
   "cell_type": "code",
   "execution_count": null,
   "metadata": {},
   "outputs": [],
   "source": [
    "datanames = ['Baron_Human', 'Baron_Mouse', 'Muraro', 'Segerstolpe','Xin', 'Zhengmix8eq','Tcell-medicine','ALM', 'AMB', 'TM', 'VISP']\n"
   ]
  },
  {
   "cell_type": "code",
   "execution_count": 4,
   "metadata": {},
   "outputs": [
    {
     "name": "stdout",
     "output_type": "stream",
     "text": [
      "Baron_Human 8569\n",
      "Log transform done\n",
      "(8569, 50)\n"
     ]
    }
   ],
   "source": [
    "\n",
    "name='Baron_Human'\n",
    "kchoice=20\n",
    "\n",
    "X = scipy.sparse.load_npz(datapath+name + '/data.npz')\n",
    "label = np.load(datapath+name+'/labels.npy')\n",
    "print(name,len(label))\n",
    "\n",
    "#Log transform+PCA\n",
    "X.data = np.log1p(X.data)\n",
    "print(\"Log transform done\")\n",
    "pca = TruncatedSVD(n_components=50)\n",
    "PX = pca.fit_transform(X)\n",
    "n=PX.shape[0]\n",
    "walk_len_c1=int(np.log2(n))\n",
    "print(PX.shape)\n",
    "\n",
    "\n",
    "#Calculte inital KNN accuracy\n",
    "met.KNN_graph_acc(PX,kchoice,0,label)\n",
    "\n",
    "#Get the KNN edgelist\n",
    "edge_list,vlist=embed.dir_KNN_graph(PX,kchoice,0)\n",
    "print(len(edge_list))"
   ]
  },
  {
   "cell_type": "code",
   "execution_count": null,
   "metadata": {},
   "outputs": [],
   "source": []
  }
 ],
 "metadata": {
  "kernelspec": {
   "display_name": "Python 3",
   "language": "python",
   "name": "python3"
  },
  "language_info": {
   "codemirror_mode": {
    "name": "ipython",
    "version": 3
   },
   "file_extension": ".py",
   "mimetype": "text/x-python",
   "name": "python",
   "nbconvert_exporter": "python",
   "pygments_lexer": "ipython3",
   "version": "3.10.1"
  }
 },
 "nbformat": 4,
 "nbformat_minor": 2
}
