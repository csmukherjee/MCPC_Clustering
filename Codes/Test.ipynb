{
 "cells": [
  {
   "cell_type": "code",
   "execution_count": 1,
   "metadata": {},
   "outputs": [],
   "source": [
    "import sys\n",
    "# sys.path.append('/Users/chandrasekharmukherjee/Home/Centrality framework/MCPC_Clustering/Codes')\n",
    "sys.path.append('I:/내 드라이브/backup/document/USC/Research/MCPC/Code/Codes')"
   ]
  },
  {
   "cell_type": "code",
   "execution_count": 7,
   "metadata": {},
   "outputs": [],
   "source": [
    "# This code is to test Louvain Method with custom Modularity Function\n",
    "import numpy as np\n",
    "import networkx as nx\n",
    "import networkx.algorithms.community.quality as nx_quality\n",
    "import networkx.algorithms.community as nx_comm\n",
    "# from Custom_Func import directed_modularity, modularity, _one_level\n",
    "\n",
    "import Custom_Func as Custom_Func\n"
   ]
  },
  {
   "cell_type": "code",
   "execution_count": 8,
   "metadata": {},
   "outputs": [],
   "source": [
    "%load_ext autoreload\n",
    "%autoreload 2\n",
    "import importlib\n",
    "import Custom_Func as Custom_Func\n",
    "Custom_Func = importlib.reload(Custom_Func)"
   ]
  },
  {
   "cell_type": "markdown",
   "metadata": {},
   "source": [
    "## Sample Graph"
   ]
  },
  {
   "cell_type": "code",
   "execution_count": null,
   "metadata": {},
   "outputs": [],
   "source": [
    "G = nx.karate_club_graph()\n",
    "print(G.edges())"
   ]
  },
  {
   "cell_type": "code",
   "execution_count": null,
   "metadata": {},
   "outputs": [],
   "source": [
    "G = nx.karate_club_graph()\n",
    "#visualize\n",
    "nx.draw(G, with_labels=True)\n",
    "#print(G.edges(data=True))"
   ]
  },
  {
   "cell_type": "markdown",
   "metadata": {},
   "source": [
    "## Louvain Method with Original Q (Modularity) Function"
   ]
  },
  {
   "cell_type": "code",
   "execution_count": null,
   "metadata": {},
   "outputs": [],
   "source": [
    "#Louvain with Normal Q \n",
    "partition = nx_comm.louvain.louvain_partitions(G, seed=0)\n",
    "#Loop through the partition. It is a list of sets\n",
    "for i, s in enumerate(partition, start=1):\n",
    "    print(f\"Set {i}: {s}\")"
   ]
  },
  {
   "cell_type": "markdown",
   "metadata": {},
   "source": [
    "## Louvain Method with Custom Q (Modularity) Function using Monkey Patch (Overload)"
   ]
  },
  {
   "cell_type": "code",
   "execution_count": 18,
   "metadata": {},
   "outputs": [
    {
     "ename": "UnboundLocalError",
     "evalue": "local variable 'Q_c' referenced before assignment",
     "output_type": "error",
     "traceback": [
      "\u001b[0;31m---------------------------------------------------------------------------\u001b[0m",
      "\u001b[0;31mUnboundLocalError\u001b[0m                         Traceback (most recent call last)",
      "\u001b[0;32m/var/folders/by/6y59kjpn4t128m4dchpjg9vm0000gn/T/ipykernel_53824/363121257.py\u001b[0m in \u001b[0;36m<module>\u001b[0;34m\u001b[0m\n\u001b[1;32m      4\u001b[0m \u001b[0mpartition\u001b[0m \u001b[0;34m=\u001b[0m \u001b[0mnx_comm\u001b[0m\u001b[0;34m.\u001b[0m\u001b[0mlouvain\u001b[0m\u001b[0;34m.\u001b[0m\u001b[0mlouvain_partitions\u001b[0m\u001b[0;34m(\u001b[0m\u001b[0mG\u001b[0m\u001b[0;34m,\u001b[0m \u001b[0mseed\u001b[0m\u001b[0;34m=\u001b[0m\u001b[0;36m0\u001b[0m\u001b[0;34m)\u001b[0m\u001b[0;34m\u001b[0m\u001b[0;34m\u001b[0m\u001b[0m\n\u001b[1;32m      5\u001b[0m \u001b[0;31m#Loop through the partition. It is a list of sets\u001b[0m\u001b[0;34m\u001b[0m\u001b[0;34m\u001b[0m\u001b[0m\n\u001b[0;32m----> 6\u001b[0;31m \u001b[0;32mfor\u001b[0m \u001b[0mi\u001b[0m\u001b[0;34m,\u001b[0m \u001b[0ms\u001b[0m \u001b[0;32min\u001b[0m \u001b[0menumerate\u001b[0m\u001b[0;34m(\u001b[0m\u001b[0mpartition\u001b[0m\u001b[0;34m,\u001b[0m \u001b[0mstart\u001b[0m\u001b[0;34m=\u001b[0m\u001b[0;36m1\u001b[0m\u001b[0;34m)\u001b[0m\u001b[0;34m:\u001b[0m\u001b[0;34m\u001b[0m\u001b[0;34m\u001b[0m\u001b[0m\n\u001b[0m\u001b[1;32m      7\u001b[0m     \u001b[0mprint\u001b[0m\u001b[0;34m(\u001b[0m\u001b[0;34mf\"Set {i}: {s}\"\u001b[0m\u001b[0;34m)\u001b[0m\u001b[0;34m\u001b[0m\u001b[0;34m\u001b[0m\u001b[0m\n\u001b[1;32m      8\u001b[0m \u001b[0;31m#\u001b[0m\u001b[0;34m\u001b[0m\u001b[0;34m\u001b[0m\u001b[0m\n",
      "\u001b[0;32m/Library/Frameworks/Python.framework/Versions/3.10/lib/python3.10/site-packages/networkx/algorithms/community/louvain.py\u001b[0m in \u001b[0;36mlouvain_partitions\u001b[0;34m(G, weight, resolution, threshold, seed)\u001b[0m\n\u001b[1;32m    195\u001b[0m \u001b[0;34m\u001b[0m\u001b[0m\n\u001b[1;32m    196\u001b[0m     \u001b[0mm\u001b[0m \u001b[0;34m=\u001b[0m \u001b[0mgraph\u001b[0m\u001b[0;34m.\u001b[0m\u001b[0msize\u001b[0m\u001b[0;34m(\u001b[0m\u001b[0mweight\u001b[0m\u001b[0;34m=\u001b[0m\u001b[0;34m\"weight\"\u001b[0m\u001b[0;34m)\u001b[0m\u001b[0;34m\u001b[0m\u001b[0;34m\u001b[0m\u001b[0m\n\u001b[0;32m--> 197\u001b[0;31m     partition, inner_partition, improvement = _one_level(\n\u001b[0m\u001b[1;32m    198\u001b[0m         \u001b[0mgraph\u001b[0m\u001b[0;34m,\u001b[0m \u001b[0mm\u001b[0m\u001b[0;34m,\u001b[0m \u001b[0mpartition\u001b[0m\u001b[0;34m,\u001b[0m \u001b[0mresolution\u001b[0m\u001b[0;34m,\u001b[0m \u001b[0mis_directed\u001b[0m\u001b[0;34m,\u001b[0m \u001b[0mseed\u001b[0m\u001b[0;34m\u001b[0m\u001b[0;34m\u001b[0m\u001b[0m\n\u001b[1;32m    199\u001b[0m     )\n",
      "\u001b[0;32m~/Home/Centrality framework/MCPC_Clustering/Codes/Custom_Func.py\u001b[0m in \u001b[0;36m_one_level\u001b[0;34m(G, m, partition, resolution, is_directed, seed)\u001b[0m\n\u001b[1;32m    192\u001b[0m                     \u001b[0;31m#     - directed_modularity(G, partition_temp, weight=\"weight\", resolution=resolution)\u001b[0m\u001b[0;34m\u001b[0m\u001b[0;34m\u001b[0m\u001b[0m\n\u001b[1;32m    193\u001b[0m                     \u001b[0;31m# )\u001b[0m\u001b[0;34m\u001b[0m\u001b[0;34m\u001b[0m\u001b[0m\n\u001b[0;32m--> 194\u001b[0;31m                     \u001b[0mgain\u001b[0m \u001b[0;34m=\u001b[0m \u001b[0mupdate_directed_modularity\u001b[0m\u001b[0;34m(\u001b[0m\u001b[0mG\u001b[0m\u001b[0;34m,\u001b[0m\u001b[0mnode2com\u001b[0m\u001b[0;34m,\u001b[0m\u001b[0mm\u001b[0m\u001b[0;34m,\u001b[0m\u001b[0mu\u001b[0m\u001b[0;34m,\u001b[0m\u001b[0mnbr_com\u001b[0m\u001b[0;34m)\u001b[0m\u001b[0;34m\u001b[0m\u001b[0;34m\u001b[0m\u001b[0m\n\u001b[0m\u001b[1;32m    195\u001b[0m \u001b[0;34m\u001b[0m\u001b[0m\n\u001b[1;32m    196\u001b[0m \u001b[0;34m\u001b[0m\u001b[0m\n",
      "\u001b[0;32m~/Home/Centrality framework/MCPC_Clustering/Codes/Custom_Func.py\u001b[0m in \u001b[0;36mupdate_directed_modularity\u001b[0;34m(G, c_iden, m, u, c_num_new)\u001b[0m\n\u001b[1;32m     45\u001b[0m             \u001b[0mQ_c\u001b[0m\u001b[0;34m=\u001b[0m\u001b[0mQ_c\u001b[0m\u001b[0;34m-\u001b[0m\u001b[0;34m(\u001b[0m \u001b[0mG\u001b[0m\u001b[0;34m[\u001b[0m\u001b[0mu\u001b[0m\u001b[0;34m]\u001b[0m\u001b[0;34m[\u001b[0m\u001b[0mv\u001b[0m\u001b[0;34m]\u001b[0m\u001b[0;34m[\u001b[0m\u001b[0;34m'weight'\u001b[0m\u001b[0;34m]\u001b[0m\u001b[0;34m-\u001b[0m \u001b[0mG\u001b[0m\u001b[0;34m.\u001b[0m\u001b[0mout_degree\u001b[0m\u001b[0;34m(\u001b[0m\u001b[0mu\u001b[0m\u001b[0;34m,\u001b[0m\u001b[0mweight\u001b[0m\u001b[0;34m=\u001b[0m\u001b[0;34m'weight'\u001b[0m\u001b[0;34m)\u001b[0m\u001b[0;34m*\u001b[0m\u001b[0mG\u001b[0m\u001b[0;34m.\u001b[0m\u001b[0min_degree\u001b[0m\u001b[0;34m(\u001b[0m\u001b[0mv\u001b[0m\u001b[0;34m,\u001b[0m\u001b[0mweight\u001b[0m\u001b[0;34m=\u001b[0m\u001b[0;34m'weight'\u001b[0m\u001b[0;34m)\u001b[0m\u001b[0;34m/\u001b[0m\u001b[0;34m(\u001b[0m\u001b[0;36m2\u001b[0m\u001b[0;34m*\u001b[0m\u001b[0mm\u001b[0m\u001b[0;34m)\u001b[0m \u001b[0;34m)\u001b[0m\u001b[0;34m\u001b[0m\u001b[0;34m\u001b[0m\u001b[0m\n\u001b[1;32m     46\u001b[0m \u001b[0;34m\u001b[0m\u001b[0m\n\u001b[0;32m---> 47\u001b[0;31m         \u001b[0;32mif\u001b[0m\u001b[0;34m(\u001b[0m\u001b[0mc_iden\u001b[0m\u001b[0;34m[\u001b[0m\u001b[0mv\u001b[0m\u001b[0;34m]\u001b[0m\u001b[0;34m==\u001b[0m\u001b[0mc_num_new\u001b[0m\u001b[0;34m)\u001b[0m\u001b[0;34m:\u001b[0m\u001b[0;34m\u001b[0m\u001b[0;34m\u001b[0m\u001b[0m\n\u001b[0m\u001b[1;32m     48\u001b[0m             \u001b[0mQ_c\u001b[0m\u001b[0;34m=\u001b[0m\u001b[0mQ_c\u001b[0m\u001b[0;34m+\u001b[0m\u001b[0;34m(\u001b[0m \u001b[0mG\u001b[0m\u001b[0;34m[\u001b[0m\u001b[0mv\u001b[0m\u001b[0;34m]\u001b[0m\u001b[0;34m[\u001b[0m\u001b[0mu\u001b[0m\u001b[0;34m]\u001b[0m\u001b[0;34m[\u001b[0m\u001b[0;34m'weight'\u001b[0m\u001b[0;34m]\u001b[0m\u001b[0;34m-\u001b[0m \u001b[0mG\u001b[0m\u001b[0;34m.\u001b[0m\u001b[0mout_degree\u001b[0m\u001b[0;34m(\u001b[0m\u001b[0mu\u001b[0m\u001b[0;34m,\u001b[0m\u001b[0mweight\u001b[0m\u001b[0;34m=\u001b[0m\u001b[0;34m'weight'\u001b[0m\u001b[0;34m)\u001b[0m\u001b[0;34m*\u001b[0m\u001b[0mG\u001b[0m\u001b[0;34m.\u001b[0m\u001b[0min_degree\u001b[0m\u001b[0;34m(\u001b[0m\u001b[0mv\u001b[0m\u001b[0;34m,\u001b[0m\u001b[0mweight\u001b[0m\u001b[0;34m=\u001b[0m\u001b[0;34m'weight'\u001b[0m\u001b[0;34m)\u001b[0m\u001b[0;34m/\u001b[0m\u001b[0;34m(\u001b[0m\u001b[0;36m2\u001b[0m\u001b[0;34m*\u001b[0m\u001b[0mm\u001b[0m\u001b[0;34m)\u001b[0m \u001b[0;34m)\u001b[0m\u001b[0;34m\u001b[0m\u001b[0;34m\u001b[0m\u001b[0m\n\u001b[1;32m     49\u001b[0m \u001b[0;34m\u001b[0m\u001b[0m\n",
      "\u001b[0;31mUnboundLocalError\u001b[0m: local variable 'Q_c' referenced before assignment"
     ]
    },
    {
     "data": {
      "image/png": "[encoded data removed]",
      "text/plain": [
       "<Figure size 432x288 with 1 Axes>"
      ]
     },
     "metadata": {},
     "output_type": "display_data"
    }
   ],
   "source": [
    "#Louvain with Custom Q (+1 for every community of size 2 / 0 else)\n",
    "nx_quality.modularity=modularity\n",
    "nx_comm.louvain._one_level=_one_level\n",
    "partition = nx_comm.louvain.louvain_partitions(G, seed=0)\n",
    "#Loop through the partition. It is a list of sets\n",
    "for i, s in enumerate(partition, start=1):\n",
    "    print(f\"Set {i}: {s}\")\n",
    "#\n",
    "\n",
    "\n",
    "    "
   ]
  },
  {
   "cell_type": "markdown",
   "metadata": {},
   "source": [
    "# Directed Graph"
   ]
  },
  {
   "cell_type": "code",
   "execution_count": 4,
   "metadata": {},
   "outputs": [],
   "source": []
  },
  {
   "cell_type": "code",
   "execution_count": 62,
   "metadata": {},
   "outputs": [
    {
     "data": {
      "image/png": "[encoded data removed]",
      "text/plain": [
       "<Figure size 640x480 with 1 Axes>"
      ]
     },
     "metadata": {},
     "output_type": "display_data"
    }
   ],
   "source": [
    "#Directed graph example\n",
    "\n",
    "n_s=10\n",
    "val = np.random.uniform(low=0.0, high=1.0, size=(n_s, n_s))\n",
    "\n",
    "G = nx.DiGraph()\n",
    "\n",
    "for i in range(n_s):\n",
    "    for j in range(n_s):\n",
    "\n",
    "        if((i<n_s//2 and j <n_s//2) or (i>n_s//2 and j>n_s//2)):\n",
    "            if(val[i][j]>0.3):\n",
    "                G.add_edge(i,j,weight=1)\n",
    "        else:\n",
    "            if(val[i][j]>0.7):\n",
    "                G.add_edge(i,j,weight=1)\n",
    "\n",
    "\n",
    "#G.add_edges_from([(1,2),(2,3),(3,1),(1,4),(4,1),(4,5),(5,4),(5,6),(6,3),(3,6),(6,2),(2,6),(4,7),(7,5),(7,4)])\n",
    "# G = nx.DiGraph()\n",
    "# G.add_nodes_from([1,2,3])\n",
    "# G.add_edges_from([(2,3),(1,3),(3,1)])#visualize\n",
    "nx.draw(G, with_labels=True)"
   ]
  },
  {
   "cell_type": "markdown",
   "metadata": {},
   "source": [
    "## Custom Directed_Modularity"
   ]
  },
  {
   "cell_type": "code",
   "execution_count": 63,
   "metadata": {},
   "outputs": [
    {
     "name": "stdout",
     "output_type": "stream",
     "text": [
      "rand_nodes: [1, 3, 2]\n",
      "u: 1\n",
      "inner_partition: [{1}, {2}, {3}]\n",
      "nbr_com: 2\n",
      "gain: 0.3333333333333333\n",
      "u: 1\n",
      "inner_partition: [{1}, {2}, {3}]\n",
      "nbr_com: 0\n",
      "gain: 0.0\n",
      "u: 3\n",
      "inner_partition: [set(), {2}, {1, 3}]\n",
      "nbr_com: 2\n",
      "gain: 0.0\n",
      "u: 3\n",
      "inner_partition: [set(), {2}, {1, 3}]\n",
      "nbr_com: 1\n",
      "gain: -0.2222222222222222\n",
      "u: 2\n",
      "inner_partition: [set(), {2}, {1, 3}]\n",
      "nbr_com: 2\n",
      "gain: 0.0\n",
      "u: 2\n",
      "inner_partition: [set(), {2}, {1, 3}]\n",
      "nbr_com: 1\n",
      "gain: 0.0\n",
      "u: 1\n",
      "inner_partition: [set(), {2}, {1, 3}]\n",
      "nbr_com: 2\n",
      "gain: 0.0\n",
      "u: 3\n",
      "inner_partition: [set(), {2}, {1, 3}]\n",
      "nbr_com: 2\n",
      "gain: 0.0\n",
      "u: 3\n",
      "inner_partition: [set(), {2}, {1, 3}]\n",
      "nbr_com: 1\n",
      "gain: -0.2222222222222222\n",
      "u: 2\n",
      "inner_partition: [set(), {2}, {1, 3}]\n",
      "nbr_com: 2\n",
      "gain: 0.0\n",
      "u: 2\n",
      "inner_partition: [set(), {2}, {1, 3}]\n",
      "nbr_com: 1\n",
      "gain: 0.0\n",
      "Set 1: [{2}, {1, 3}]\n",
      "rand_nodes: [1, 0]\n",
      "u: 1\n",
      "inner_partition: [{0}, {1}]\n",
      "nbr_com: 0\n",
      "gain: 0.0\n",
      "u: 1\n",
      "inner_partition: [{0}, {1}]\n",
      "nbr_com: 1\n",
      "gain: 0.0\n",
      "u: 0\n",
      "inner_partition: [{0}, {1}]\n",
      "nbr_com: 1\n",
      "gain: 0.0\n",
      "u: 0\n",
      "inner_partition: [{0}, {1}]\n",
      "nbr_com: 0\n",
      "gain: 0.0\n"
     ]
    }
   ],
   "source": [
    "import debug as debug\n",
    "nx_comm.louvain._one_level=debug._one_level\n",
    "# nx_quality.modularity=directed_modularity\n",
    "\n",
    "#Custom directed modularity\n",
    "# Q_c = 1 if nodes in community c have more than 2 inter-community edges, 0 otherwise\n",
    "# Q = sum of all Q_c for all community c\n",
    "\n",
    "#Set every edge weight to 1\n",
    "# for u,v in G.edges():\n",
    "#     G[u][v]['weight']=1\n",
    "\n",
    "#print the edge weights\n",
    "#print(G.edges(data=True))\n",
    "\n",
    "partition = nx_comm.louvain.louvain_partitions(G, seed=0)\n",
    "#Loop through the partition. It is a list of sets\n",
    "for i, s in enumerate(partition, start=1):\n",
    "    print(f\"Set {i}: {s}\")"
   ]
  },
  {
   "cell_type": "code",
   "execution_count": 64,
   "metadata": {},
   "outputs": [
    {
     "name": "stdout",
     "output_type": "stream",
     "text": [
      "rand_nodes: [1, 3, 2]\n",
      "u: 1\n",
      "nbr_com: 2\n",
      "inner_partition: [{1}, {2}, {3}]\n",
      "gain: 0.3333333333333333\n",
      "u: 3\n",
      "nbr_com: 2\n",
      "inner_partition: [set(), {2}, {1, 3}]\n",
      "gain: -0.4444444444444443\n",
      "u: 3\n",
      "nbr_com: 1\n",
      "inner_partition: [set(), {2}, {1, 3}]\n",
      "gain: -0.22222222222222227\n",
      "u: 2\n",
      "nbr_com: 2\n",
      "inner_partition: [set(), {2}, {1, 3}]\n",
      "gain: 0.0\n",
      "u: 1\n",
      "nbr_com: 2\n",
      "inner_partition: [set(), {2}, {1, 3}]\n",
      "gain: -0.22222222222222227\n",
      "u: 3\n",
      "nbr_com: 2\n",
      "inner_partition: [set(), {2}, {1, 3}]\n",
      "gain: -0.4444444444444443\n",
      "u: 3\n",
      "nbr_com: 1\n",
      "inner_partition: [set(), {2}, {1, 3}]\n",
      "gain: -0.22222222222222227\n",
      "u: 2\n",
      "nbr_com: 2\n",
      "inner_partition: [set(), {2}, {1, 3}]\n",
      "gain: 0.0\n",
      "Set 1: [{2}, {1, 3}]\n"
     ]
    }
   ],
   "source": [
    "custom_partition = Custom_Func.louvain_partitions(G, seed=0)\n",
    "for i, s in enumerate(custom_partition, start=1):\n",
    "    print(f\"Set {i}: {s}\")"
   ]
  },
  {
   "cell_type": "code",
   "execution_count": null,
   "metadata": {},
   "outputs": [],
   "source": []
  }
 ],
 "metadata": {
  "kernelspec": {
   "display_name": "Python 3",
   "language": "python",
   "name": "python3"
  },
  "language_info": {
   "codemirror_mode": {
    "name": "ipython",
    "version": 3
   },
   "file_extension": ".py",
   "mimetype": "text/x-python",
   "name": "python",
   "nbconvert_exporter": "python",
   "pygments_lexer": "ipython3",
   "version": "3.12.3"
  }
 },
 "nbformat": 4,
 "nbformat_minor": 2
}
