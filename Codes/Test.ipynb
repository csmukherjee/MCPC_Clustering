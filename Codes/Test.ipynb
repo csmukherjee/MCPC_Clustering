{
 "cells": [
  {
   "cell_type": "code",
   "execution_count": 5,
   "metadata": {},
   "outputs": [],
   "source": [
    "import sys\n",
    "sys.path.append('/Users/chandrasekharmukherjee/Home/Centrality framework/MCPC_Clustering/Codes')\n",
    "#sys.path.append('I:/내 드라이브/backup/document/USC/Research/MCPC/Code/Codes')"
   ]
  },
  {
   "cell_type": "code",
   "execution_count": 8,
   "metadata": {},
   "outputs": [],
   "source": [
    "#import sys\n",
    "sys.path.append('/Users/chandrasekharmukherjee/Home/Centrality framework/Modules')\n",
    "sys.path.append('/Users/chandrasekharmukherjee/Home/Centrality framework/Viz')\n",
    "datapath='/Users/chandrasekharmukherjee/Home/Centrality framework/SCRNA_benchmark/'\n"
   ]
  },
  {
   "cell_type": "code",
   "execution_count": 9,
   "metadata": {},
   "outputs": [
    {
     "name": "stdout",
     "output_type": "stream",
     "text": [
      "The autoreload extension is already loaded. To reload it, use:\n",
      "  %reload_ext autoreload\n"
     ]
    }
   ],
   "source": [
    "%load_ext autoreload\n",
    "%autoreload 2\n",
    "import importlib\n",
    "\n",
    "from plots import *\n",
    "\n",
    "\n",
    "import benchmark as bmarks\n",
    "import metric as met \n",
    "import FlowRank as algo\n",
    "import datasets as dsets\n",
    "import simulation as simm\n",
    "import embedding as embed\n",
    "import newflow as newalgo\n",
    "import Relative_centrality_v2 as new_score\n",
    "\n",
    "\n",
    "met=importlib.reload(met)\n",
    "newalgo=importlib.reload(newalgo)\n",
    "algo = importlib.reload(algo)\n",
    "dsets = importlib.reload(dsets)\n",
    "simm = importlib.reload(simm)\n",
    "embed=importlib.reload(embed)\n",
    "bmarks=importlib.reload(bmarks)\n",
    "new_score=importlib.reload(new_score)"
   ]
  },
  {
   "cell_type": "code",
   "execution_count": 10,
   "metadata": {},
   "outputs": [],
   "source": [
    "# This code is to test Louvain Method with custom Modularity Function\n",
    "import numpy as np\n",
    "import networkx as nx\n",
    "import networkx.algorithms.community.quality as nx_quality\n",
    "import networkx.algorithms.community as nx_comm\n",
    "from sklearn.metrics.cluster import normalized_mutual_info_score as NMI\n",
    "\n",
    "# from Custom_Func import directed_modularity, modularity, _one_level\n",
    "\n",
    "\n"
   ]
  },
  {
   "cell_type": "code",
   "execution_count": 11,
   "metadata": {},
   "outputs": [
    {
     "name": "stdout",
     "output_type": "stream",
     "text": [
      "The autoreload extension is already loaded. To reload it, use:\n",
      "  %reload_ext autoreload\n"
     ]
    }
   ],
   "source": [
    "import Custom_Func as Custom_Func\n",
    "%load_ext autoreload\n",
    "%autoreload 2\n",
    "import importlib\n",
    "import Custom_Func as Custom_Func\n",
    "Custom_Func = importlib.reload(Custom_Func)"
   ]
  },
  {
   "cell_type": "code",
   "execution_count": 13,
   "metadata": {},
   "outputs": [],
   "source": [
    "#Import packages\n",
    "#imports\n",
    "import time\n",
    "import pandas as pd\n",
    "from collections import Counter\n",
    "import sknetwork\n",
    "import debug as debug\n",
    "\n",
    "from sknetwork.ranking import PageRank\n",
    "from sknetwork.ranking import Betweenness\n",
    "from sknetwork.ranking import Closeness\n",
    "\n",
    "import umap as umap\n",
    "\n",
    "from numba.typed import List\n",
    "import warnings\n",
    "from numba import njit\n",
    "import pynndescent\n",
    "import numpy as np\n",
    "from sklearn.cluster import SpectralClustering\n",
    "import numpy as np\n",
    "from sklearn.decomposition import PCA\n",
    "import matplotlib.pyplot as plt\n",
    "import matplotlib\n",
    "import operator\n",
    "from sklearn.utils.extmath import randomized_svd\n",
    "from random import randint\n",
    "from sklearn.utils.extmath import randomized_svd\n",
    "from sklearn.decomposition import TruncatedSVD\n",
    "import scipy\n",
    "from umap.umap_ import *\n",
    "import math\n",
    "from random import randint\n",
    "import keras\n",
    "from keras.datasets import mnist\n",
    "from keras.datasets import cifar10\n",
    "from keras.datasets import cifar100\n",
    "from keras.datasets import fashion_mnist\n",
    "import scanpy\n",
    "from sklearn.metrics.cluster import normalized_mutual_info_score\n",
    "from sklearn.metrics import adjusted_mutual_info_score, roc_auc_score\n",
    "from sklearn.metrics.cluster import adjusted_rand_score\n",
    "from sklearn.metrics.cluster import adjusted_mutual_info_score\n",
    "\n",
    "import community as community_louvain\n",
    "from sklearn.cluster import KMeans\n",
    "from sklearn.metrics import fowlkes_mallows_score\n",
    "\n",
    "from plots import *\n",
    "import scipy\n",
    "\n",
    "import igraph \n",
    "import networkx as nx"
   ]
  },
  {
   "cell_type": "markdown",
   "metadata": {},
   "source": [
    "## Sample Graph"
   ]
  },
  {
   "cell_type": "markdown",
   "metadata": {},
   "source": [
    "## Louvain Method with Original Q (Modularity) Function"
   ]
  },
  {
   "cell_type": "markdown",
   "metadata": {},
   "source": [
    "## Louvain Method with Custom Q (Modularity) Function using Monkey Patch (Overload)"
   ]
  },
  {
   "cell_type": "markdown",
   "metadata": {},
   "source": [
    "# Directed Graph"
   ]
  },
  {
   "cell_type": "code",
   "execution_count": 61,
   "metadata": {},
   "outputs": [],
   "source": [
    "#Directed graph example\n",
    "\n",
    "n_s=100\n",
    "val = np.random.uniform(low=0.0, high=1.0, size=(n_s, n_s))\n",
    "\n",
    "label=np.zeros((n_s))\n",
    "\n",
    "for i in range(n_s//2,n_s):\n",
    "    label[i]=1\n",
    "\n",
    "\n",
    "G = nx.DiGraph()\n",
    "\n",
    "for i in range(n_s):\n",
    "    for j in range(n_s):\n",
    "\n",
    "        if((i<n_s//2 and j <n_s//2) or (i>n_s//2 and j>n_s//2)):\n",
    "            if(val[i][j]>0.45):\n",
    "                G.add_edge(i,j,weight=1)\n",
    "        else:\n",
    "            if(val[i][j]>0.55):\n",
    "                G.add_edge(i,j,weight=1)\n",
    "\n",
    "\n",
    "#G.add_edges_from([(1,2),(2,3),(3,1),(1,4),(4,1),(4,5),(5,4),(5,6),(6,3),(3,6),(6,2),(2,6),(4,7),(7,5),(7,4)])\n",
    "# G = nx.DiGraph()\n",
    "# G.add_nodes_from([1,2,3])\n",
    "# G.add_edges_from([(2,3),(1,3),(3,1)])#visualize\n",
    "#nx.draw(G, with_labels=True)"
   ]
  },
  {
   "cell_type": "markdown",
   "metadata": {},
   "source": [
    "## Original Directed_Modularity"
   ]
  },
  {
   "cell_type": "code",
   "execution_count": 18,
   "metadata": {},
   "outputs": [],
   "source": [
    "from collections import defaultdict, deque\n",
    "\n",
    "def get_labels(partition,n_s):\n",
    "    final_partition_1 = deque(partition, maxlen=1).pop()\n",
    "    #print(final_partition_1)\n",
    "\n",
    "\n",
    "    label_1=np.zeros((n_s))\n",
    "    c=0\n",
    "    for sets in final_partition_1:\n",
    "        for ell in sets:\n",
    "            label_1[ell]=c\n",
    "        \n",
    "        c=c+1\n",
    "\n",
    "    return label_1"
   ]
  },
  {
   "cell_type": "code",
   "execution_count": 54,
   "metadata": {},
   "outputs": [],
   "source": [
    "import debug as debug\n",
    "import matplotlib.pyplot as plt\n",
    "\n",
    "nx_comm.louvain._one_level=debug._one_level\n",
    "og_partition = nx_comm.louvain.louvain_partitions(G, seed=0,resolution=res)\n",
    "from sklearn.metrics.cluster import normalized_mutual_info_score\n"
   ]
  },
  {
   "cell_type": "code",
   "execution_count": 62,
   "metadata": {},
   "outputs": [
    {
     "name": "stdout",
     "output_type": "stream",
     "text": [
      "[{65, 2, 67, 68, 6, 71, 72, 9, 10, 75, 79, 80, 81, 85, 26, 90, 91, 94, 95, 96, 41, 42, 43, 48, 52, 53, 55, 57, 62}, {1, 4, 5, 8, 11, 13, 78, 14, 16, 20, 22, 33, 35, 99, 46, 50, 63}, {64, 98, 58, 76, 77, 49, 83, 51, 87, 88, 56}, {66, 69, 70, 7, 73, 74, 15, 18, 82, 19, 21, 86, 89, 92, 93, 32, 97, 36, 37, 44, 47, 54, 59, 60, 61}, {0, 3, 12, 17, 84, 23, 24, 25, 27, 28, 29, 30, 31, 34, 38, 39, 40, 45}]\n",
      "One level call\n",
      "One level call\n",
      "One level call\n"
     ]
    },
    {
     "data": {
      "image/png": "[encoded data removed]",
      "text/plain": [
       "<Figure size 432x288 with 1 Axes>"
      ]
     },
     "metadata": {
      "needs_background": "light"
     },
     "output_type": "display_data"
    },
    {
     "data": {
      "image/png": "[encoded data removed]",
      "text/plain": [
       "<Figure size 432x288 with 1 Axes>"
      ]
     },
     "metadata": {
      "needs_background": "light"
     },
     "output_type": "display_data"
    },
    {
     "name": "stdout",
     "output_type": "stream",
     "text": [
      "The NMI score of original Louvain compared to true label: 0.16\n",
      "The NMI score of our implementation compared to true label: 0.071\n"
     ]
    }
   ],
   "source": [
    "import debug as debug\n",
    "import matplotlib.pyplot as plt\n",
    "from collections import defaultdict, deque\n",
    "import itertools\n",
    "\n",
    "nx_comm.louvain._one_level=debug._one_level\n",
    "og_partition = nx_comm.louvain.louvain_partitions(G, seed=0)\n",
    "\n",
    "final_partition_1 = deque(og_partition, maxlen=1).pop()\n",
    "print(final_partition_1)\n",
    "\n",
    "\n",
    "label_1=np.zeros((n_s))\n",
    "c=0\n",
    "for sets in final_partition_1:\n",
    "    for ell in sets:\n",
    "        label_1[ell]=c\n",
    "    \n",
    "    c=c+1\n",
    "\n",
    "\n",
    "nx_comm.louvain._one_level=Custom_Func._one_level\n",
    "partition = nx_comm.louvain.louvain_partitions(G, seed=0)\n",
    "final_partition_2 = deque(partition, maxlen=1).pop()\n",
    "\n",
    "\n",
    "label_2=np.zeros((n_s))\n",
    "c=0\n",
    "for sets in final_partition_2:\n",
    "    for ell in sets:\n",
    "        label_2[ell]=c\n",
    "    c=c+1\n",
    "\n",
    "\n",
    "xaxis=[i for i in range(n_s)]\n",
    "\n",
    "plt.Figure()\n",
    "plt.scatter(xaxis,label_1,s=2,color='green')\n",
    "plt.show()\n",
    "\n",
    "plt.Figure()\n",
    "plt.scatter(xaxis,label_2,s=2,color='red')\n",
    "plt.show()\n",
    "\n",
    "print(\"The NMI score of original Louvain compared to true label:\",round(NMI(label,label_1),3))\n",
    "print(\"The NMI score of our implementation compared to true label:\",round(NMI(label,label_2),3))\n",
    "\n",
    "\n",
    "# # nx_quality.modularity=directed_modularity\n",
    "\n",
    "# #Custom directed modularity\n",
    "# # Q_c = 1 if nodes in community c have more than 2 inter-community edges, 0 otherwise\n",
    "# # Q = sum of all Q_c for all community c\n",
    "\n",
    "# #Set every edge weight to 1\n",
    "# # for u,v in G.edges():\n",
    "# #     G[u][v]['weight']=1\n",
    "\n",
    "# #print the edge weights\n",
    "# #print(G.edges(data=True))\n",
    "\n",
    "# partition = nx_comm.louvain.louvain_partitions(G, seed=0)\n",
    "# #Loop through the partition. It is a list of sets\n",
    "# for i, s in enumerate(partition, start=1):\n",
    "#     print(f\"Set {i}: {s}\")"
   ]
  },
  {
   "cell_type": "code",
   "execution_count": null,
   "metadata": {},
   "outputs": [],
   "source": [
    "for i, s in enumerate(partition, start=1):\n",
    "    print(f\"Set {i}: {s}\")"
   ]
  },
  {
   "cell_type": "markdown",
   "metadata": {},
   "source": [
    "## Custom Directed Modularity"
   ]
  },
  {
   "cell_type": "code",
   "execution_count": null,
   "metadata": {},
   "outputs": [],
   "source": [
    "custom_partition = Custom_Func.louvain_partitions(G, seed=0)\n",
    "for i, s in enumerate(custom_partition, start=1):\n",
    "    print(f\"Set {i}: {s}\")"
   ]
  },
  {
   "cell_type": "code",
   "execution_count": null,
   "metadata": {},
   "outputs": [],
   "source": [
    "for i, s in enumerate(custom_partition, start=1):\n",
    "    print(\"Set {i}: {s}\")"
   ]
  },
  {
   "cell_type": "code",
   "execution_count": null,
   "metadata": {},
   "outputs": [],
   "source": []
  },
  {
   "cell_type": "code",
   "execution_count": null,
   "metadata": {},
   "outputs": [],
   "source": []
  }
 ],
 "metadata": {
  "kernelspec": {
   "display_name": "Python 3",
   "language": "python",
   "name": "python3"
  },
  "language_info": {
   "codemirror_mode": {
    "name": "ipython",
    "version": 3
   },
   "file_extension": ".py",
   "mimetype": "text/x-python",
   "name": "python",
   "nbconvert_exporter": "python",
   "pygments_lexer": "ipython3",
   "version": "3.10.1"
  }
 },
 "nbformat": 4,
 "nbformat_minor": 2
}
