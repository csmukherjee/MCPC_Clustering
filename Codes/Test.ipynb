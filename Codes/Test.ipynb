{
 "cells": [
  {
   "cell_type": "code",
<<<<<<< Updated upstream
   "execution_count": 1,
=======
   "execution_count": 49,
>>>>>>> Stashed changes
   "metadata": {},
   "outputs": [],
   "source": [
    "import sys\n",
    "sys.path.append('/Users/chandrasekharmukherjee/Home/Centrality framework/MCPC_Clustering/Codes')\n",
    "#sys.path.append('I:/내 드라이브/backup/document/USC/Research/MCPC/Code/Codes')"
   ]
  },
  {
   "cell_type": "code",
<<<<<<< Updated upstream
   "execution_count": 7,
=======
   "execution_count": 55,
>>>>>>> Stashed changes
   "metadata": {},
   "outputs": [],
   "source": [
    "# This code is to test Louvain Method with custom Modularity Function\n",
    "import numpy as np\n",
    "import networkx as nx\n",
    "import networkx.algorithms.community.quality as nx_quality\n",
    "import networkx.algorithms.community as nx_comm\n",
    "from sklearn.metrics.cluster import normalized_mutual_info_score as NMI\n",
    "\n",
    "# from Custom_Func import directed_modularity, modularity, _one_level\n",
    "\n",
    "import Custom_Func as Custom_Func\n"
   ]
  },
  {
   "cell_type": "code",
<<<<<<< Updated upstream
   "execution_count": 8,
=======
   "execution_count": 51,
>>>>>>> Stashed changes
   "metadata": {},
   "outputs": [
    {
     "name": "stdout",
     "output_type": "stream",
     "text": [
      "The autoreload extension is already loaded. To reload it, use:\n",
      "  %reload_ext autoreload\n"
     ]
    }
   ],
   "source": [
    "%load_ext autoreload\n",
    "%autoreload 2\n",
    "import importlib\n",
    "import Custom_Func as Custom_Func\n",
    "Custom_Func = importlib.reload(Custom_Func)"
   ]
  },
  {
   "cell_type": "markdown",
   "metadata": {},
   "source": [
    "## Sample Graph"
   ]
  },
  {
   "cell_type": "markdown",
   "metadata": {},
   "source": [
    "## Louvain Method with Original Q (Modularity) Function"
   ]
  },
  {
   "cell_type": "markdown",
   "metadata": {},
   "source": [
    "## Louvain Method with Custom Q (Modularity) Function using Monkey Patch (Overload)"
   ]
  },
  {
   "cell_type": "code",
   "execution_count": 18,
   "metadata": {},
   "outputs": [
    {
     "ename": "UnboundLocalError",
     "evalue": "local variable 'Q_c' referenced before assignment",
     "output_type": "error",
     "traceback": [
      "\u001b[0;31m---------------------------------------------------------------------------\u001b[0m",
      "\u001b[0;31mUnboundLocalError\u001b[0m                         Traceback (most recent call last)",
      "\u001b[0;32m/var/folders/by/6y59kjpn4t128m4dchpjg9vm0000gn/T/ipykernel_53824/363121257.py\u001b[0m in \u001b[0;36m<module>\u001b[0;34m\u001b[0m\n\u001b[1;32m      4\u001b[0m \u001b[0mpartition\u001b[0m \u001b[0;34m=\u001b[0m \u001b[0mnx_comm\u001b[0m\u001b[0;34m.\u001b[0m\u001b[0mlouvain\u001b[0m\u001b[0;34m.\u001b[0m\u001b[0mlouvain_partitions\u001b[0m\u001b[0;34m(\u001b[0m\u001b[0mG\u001b[0m\u001b[0;34m,\u001b[0m \u001b[0mseed\u001b[0m\u001b[0;34m=\u001b[0m\u001b[0;36m0\u001b[0m\u001b[0;34m)\u001b[0m\u001b[0;34m\u001b[0m\u001b[0;34m\u001b[0m\u001b[0m\n\u001b[1;32m      5\u001b[0m \u001b[0;31m#Loop through the partition. It is a list of sets\u001b[0m\u001b[0;34m\u001b[0m\u001b[0;34m\u001b[0m\u001b[0m\n\u001b[0;32m----> 6\u001b[0;31m \u001b[0;32mfor\u001b[0m \u001b[0mi\u001b[0m\u001b[0;34m,\u001b[0m \u001b[0ms\u001b[0m \u001b[0;32min\u001b[0m \u001b[0menumerate\u001b[0m\u001b[0;34m(\u001b[0m\u001b[0mpartition\u001b[0m\u001b[0;34m,\u001b[0m \u001b[0mstart\u001b[0m\u001b[0;34m=\u001b[0m\u001b[0;36m1\u001b[0m\u001b[0;34m)\u001b[0m\u001b[0;34m:\u001b[0m\u001b[0;34m\u001b[0m\u001b[0;34m\u001b[0m\u001b[0m\n\u001b[0m\u001b[1;32m      7\u001b[0m     \u001b[0mprint\u001b[0m\u001b[0;34m(\u001b[0m\u001b[0;34mf\"Set {i}: {s}\"\u001b[0m\u001b[0;34m)\u001b[0m\u001b[0;34m\u001b[0m\u001b[0;34m\u001b[0m\u001b[0m\n\u001b[1;32m      8\u001b[0m \u001b[0;31m#\u001b[0m\u001b[0;34m\u001b[0m\u001b[0;34m\u001b[0m\u001b[0m\n",
      "\u001b[0;32m/Library/Frameworks/Python.framework/Versions/3.10/lib/python3.10/site-packages/networkx/algorithms/community/louvain.py\u001b[0m in \u001b[0;36mlouvain_partitions\u001b[0;34m(G, weight, resolution, threshold, seed)\u001b[0m\n\u001b[1;32m    195\u001b[0m \u001b[0;34m\u001b[0m\u001b[0m\n\u001b[1;32m    196\u001b[0m     \u001b[0mm\u001b[0m \u001b[0;34m=\u001b[0m \u001b[0mgraph\u001b[0m\u001b[0;34m.\u001b[0m\u001b[0msize\u001b[0m\u001b[0;34m(\u001b[0m\u001b[0mweight\u001b[0m\u001b[0;34m=\u001b[0m\u001b[0;34m\"weight\"\u001b[0m\u001b[0;34m)\u001b[0m\u001b[0;34m\u001b[0m\u001b[0;34m\u001b[0m\u001b[0m\n\u001b[0;32m--> 197\u001b[0;31m     partition, inner_partition, improvement = _one_level(\n\u001b[0m\u001b[1;32m    198\u001b[0m         \u001b[0mgraph\u001b[0m\u001b[0;34m,\u001b[0m \u001b[0mm\u001b[0m\u001b[0;34m,\u001b[0m \u001b[0mpartition\u001b[0m\u001b[0;34m,\u001b[0m \u001b[0mresolution\u001b[0m\u001b[0;34m,\u001b[0m \u001b[0mis_directed\u001b[0m\u001b[0;34m,\u001b[0m \u001b[0mseed\u001b[0m\u001b[0;34m\u001b[0m\u001b[0;34m\u001b[0m\u001b[0m\n\u001b[1;32m    199\u001b[0m     )\n",
      "\u001b[0;32m~/Home/Centrality framework/MCPC_Clustering/Codes/Custom_Func.py\u001b[0m in \u001b[0;36m_one_level\u001b[0;34m(G, m, partition, resolution, is_directed, seed)\u001b[0m\n\u001b[1;32m    192\u001b[0m                     \u001b[0;31m#     - directed_modularity(G, partition_temp, weight=\"weight\", resolution=resolution)\u001b[0m\u001b[0;34m\u001b[0m\u001b[0;34m\u001b[0m\u001b[0m\n\u001b[1;32m    193\u001b[0m                     \u001b[0;31m# )\u001b[0m\u001b[0;34m\u001b[0m\u001b[0;34m\u001b[0m\u001b[0m\n\u001b[0;32m--> 194\u001b[0;31m                     \u001b[0mgain\u001b[0m \u001b[0;34m=\u001b[0m \u001b[0mupdate_directed_modularity\u001b[0m\u001b[0;34m(\u001b[0m\u001b[0mG\u001b[0m\u001b[0;34m,\u001b[0m\u001b[0mnode2com\u001b[0m\u001b[0;34m,\u001b[0m\u001b[0mm\u001b[0m\u001b[0;34m,\u001b[0m\u001b[0mu\u001b[0m\u001b[0;34m,\u001b[0m\u001b[0mnbr_com\u001b[0m\u001b[0;34m)\u001b[0m\u001b[0;34m\u001b[0m\u001b[0;34m\u001b[0m\u001b[0m\n\u001b[0m\u001b[1;32m    195\u001b[0m \u001b[0;34m\u001b[0m\u001b[0m\n\u001b[1;32m    196\u001b[0m \u001b[0;34m\u001b[0m\u001b[0m\n",
      "\u001b[0;32m~/Home/Centrality framework/MCPC_Clustering/Codes/Custom_Func.py\u001b[0m in \u001b[0;36mupdate_directed_modularity\u001b[0;34m(G, c_iden, m, u, c_num_new)\u001b[0m\n\u001b[1;32m     45\u001b[0m             \u001b[0mQ_c\u001b[0m\u001b[0;34m=\u001b[0m\u001b[0mQ_c\u001b[0m\u001b[0;34m-\u001b[0m\u001b[0;34m(\u001b[0m \u001b[0mG\u001b[0m\u001b[0;34m[\u001b[0m\u001b[0mu\u001b[0m\u001b[0;34m]\u001b[0m\u001b[0;34m[\u001b[0m\u001b[0mv\u001b[0m\u001b[0;34m]\u001b[0m\u001b[0;34m[\u001b[0m\u001b[0;34m'weight'\u001b[0m\u001b[0;34m]\u001b[0m\u001b[0;34m-\u001b[0m \u001b[0mG\u001b[0m\u001b[0;34m.\u001b[0m\u001b[0mout_degree\u001b[0m\u001b[0;34m(\u001b[0m\u001b[0mu\u001b[0m\u001b[0;34m,\u001b[0m\u001b[0mweight\u001b[0m\u001b[0;34m=\u001b[0m\u001b[0;34m'weight'\u001b[0m\u001b[0;34m)\u001b[0m\u001b[0;34m*\u001b[0m\u001b[0mG\u001b[0m\u001b[0;34m.\u001b[0m\u001b[0min_degree\u001b[0m\u001b[0;34m(\u001b[0m\u001b[0mv\u001b[0m\u001b[0;34m,\u001b[0m\u001b[0mweight\u001b[0m\u001b[0;34m=\u001b[0m\u001b[0;34m'weight'\u001b[0m\u001b[0;34m)\u001b[0m\u001b[0;34m/\u001b[0m\u001b[0;34m(\u001b[0m\u001b[0;36m2\u001b[0m\u001b[0;34m*\u001b[0m\u001b[0mm\u001b[0m\u001b[0;34m)\u001b[0m \u001b[0;34m)\u001b[0m\u001b[0;34m\u001b[0m\u001b[0;34m\u001b[0m\u001b[0m\n\u001b[1;32m     46\u001b[0m \u001b[0;34m\u001b[0m\u001b[0m\n\u001b[0;32m---> 47\u001b[0;31m         \u001b[0;32mif\u001b[0m\u001b[0;34m(\u001b[0m\u001b[0mc_iden\u001b[0m\u001b[0;34m[\u001b[0m\u001b[0mv\u001b[0m\u001b[0;34m]\u001b[0m\u001b[0;34m==\u001b[0m\u001b[0mc_num_new\u001b[0m\u001b[0;34m)\u001b[0m\u001b[0;34m:\u001b[0m\u001b[0;34m\u001b[0m\u001b[0;34m\u001b[0m\u001b[0m\n\u001b[0m\u001b[1;32m     48\u001b[0m             \u001b[0mQ_c\u001b[0m\u001b[0;34m=\u001b[0m\u001b[0mQ_c\u001b[0m\u001b[0;34m+\u001b[0m\u001b[0;34m(\u001b[0m \u001b[0mG\u001b[0m\u001b[0;34m[\u001b[0m\u001b[0mv\u001b[0m\u001b[0;34m]\u001b[0m\u001b[0;34m[\u001b[0m\u001b[0mu\u001b[0m\u001b[0;34m]\u001b[0m\u001b[0;34m[\u001b[0m\u001b[0;34m'weight'\u001b[0m\u001b[0;34m]\u001b[0m\u001b[0;34m-\u001b[0m \u001b[0mG\u001b[0m\u001b[0;34m.\u001b[0m\u001b[0mout_degree\u001b[0m\u001b[0;34m(\u001b[0m\u001b[0mu\u001b[0m\u001b[0;34m,\u001b[0m\u001b[0mweight\u001b[0m\u001b[0;34m=\u001b[0m\u001b[0;34m'weight'\u001b[0m\u001b[0;34m)\u001b[0m\u001b[0;34m*\u001b[0m\u001b[0mG\u001b[0m\u001b[0;34m.\u001b[0m\u001b[0min_degree\u001b[0m\u001b[0;34m(\u001b[0m\u001b[0mv\u001b[0m\u001b[0;34m,\u001b[0m\u001b[0mweight\u001b[0m\u001b[0;34m=\u001b[0m\u001b[0;34m'weight'\u001b[0m\u001b[0;34m)\u001b[0m\u001b[0;34m/\u001b[0m\u001b[0;34m(\u001b[0m\u001b[0;36m2\u001b[0m\u001b[0;34m*\u001b[0m\u001b[0mm\u001b[0m\u001b[0;34m)\u001b[0m \u001b[0;34m)\u001b[0m\u001b[0;34m\u001b[0m\u001b[0;34m\u001b[0m\u001b[0m\n\u001b[1;32m     49\u001b[0m \u001b[0;34m\u001b[0m\u001b[0m\n",
      "\u001b[0;31mUnboundLocalError\u001b[0m: local variable 'Q_c' referenced before assignment"
     ]
    },
    {
     "data": {
      "image/png": "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",
      "text/plain": [
       "<Figure size 432x288 with 1 Axes>"
      ]
     },
     "metadata": {},
     "output_type": "display_data"
    }
   ],
   "source": [
    "#Louvain with Custom Q (+1 for every community of size 2 / 0 else)\n",
    "nx_quality.modularity=modularity\n",
    "nx_comm.louvain._one_level=_one_level\n",
    "partition = nx_comm.louvain.louvain_partitions(G, seed=0)\n",
    "#Loop through the partition. It is a list of sets\n",
    "for i, s in enumerate(partition, start=1):\n",
    "    print(f\"Set {i}: {s}\")\n",
    "#\n",
    "\n",
    "\n",
    "    "
   ]
  },
  {
   "cell_type": "markdown",
   "metadata": {},
   "source": [
    "# Directed Graph"
   ]
  },
  {
   "cell_type": "code",
<<<<<<< Updated upstream
   "execution_count": 4,
=======
   "execution_count": 61,
>>>>>>> Stashed changes
   "metadata": {},
   "outputs": [],
   "source": []
  },
  {
   "cell_type": "code",
   "execution_count": 70,
   "metadata": {},
   "outputs": [
    {
     "data": {
      "image/png": "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",
      "text/plain": [
       "<Figure size 640x480 with 1 Axes>"
      ]
     },
     "metadata": {},
     "output_type": "display_data"
    }
   ],
   "source": [
    "#Directed graph example\n",
    "\n",
    "n_s=100\n",
    "val = np.random.uniform(low=0.0, high=1.0, size=(n_s, n_s))\n",
    "\n",
    "label=np.zeros((n_s))\n",
    "\n",
    "for i in range(n_s//2,n_s):\n",
    "    label[i]=1\n",
    "\n",
    "\n",
    "G = nx.DiGraph()\n",
    "\n",
    "for i in range(n_s):\n",
    "    for j in range(n_s):\n",
    "\n",
    "        if((i<n_s//2 and j <n_s//2) or (i>n_s//2 and j>n_s//2)):\n",
    "            if(val[i][j]>0.45):\n",
    "                G.add_edge(i,j,weight=1)\n",
    "        else:\n",
    "            if(val[i][j]>0.55):\n",
    "                G.add_edge(i,j,weight=1)\n",
    "\n",
    "\n",
    "#G.add_edges_from([(1,2),(2,3),(3,1),(1,4),(4,1),(4,5),(5,4),(5,6),(6,3),(3,6),(6,2),(2,6),(4,7),(7,5),(7,4)])\n",
    "# G = nx.DiGraph()\n",
    "# G.add_nodes_from([1,2,3])\n",
    "# G.add_edges_from([(2,3),(1,3),(3,1)])#visualize\n",
    "nx.draw(G, with_labels=True)"
   ]
  },
  {
   "cell_type": "markdown",
   "metadata": {},
   "source": [
    "## Original Directed_Modularity"
   ]
  },
  {
   "cell_type": "code",
<<<<<<< Updated upstream
   "execution_count": 85,
=======
   "execution_count": 54,
>>>>>>> Stashed changes
   "metadata": {},
   "outputs": [
    {
     "name": "stdout",
     "output_type": "stream",
     "text": [
      "rand_nodes: [1, 3, 2]\n",
      "weights2com: defaultdict(<class 'float'>, {2: 2.0})\n",
      "check u:1\n",
      "check nbr_com: 2\n",
      "check u:1\n",
      "check nbr_com: 0\n",
      "weights2com: defaultdict(<class 'float'>, {2: 2.0, 1: 1.0})\n",
      "check u:3\n",
      "check nbr_com: 2\n",
      "check u:3\n",
      "check nbr_com: 1\n",
      "weights2com: defaultdict(<class 'float'>, {2: 1.0})\n",
      "check u:2\n",
      "check nbr_com: 2\n",
      "check u:2\n",
      "check nbr_com: 1\n",
      "weights2com: defaultdict(<class 'float'>, {2: 2.0})\n",
      "check u:1\n",
      "check nbr_com: 2\n",
      "weights2com: defaultdict(<class 'float'>, {2: 2.0, 1: 1.0})\n",
      "check u:3\n",
      "check nbr_com: 2\n",
      "check u:3\n",
      "check nbr_com: 1\n",
      "weights2com: defaultdict(<class 'float'>, {2: 1.0})\n",
      "check u:2\n",
      "check nbr_com: 2\n",
      "check u:2\n",
      "check nbr_com: 1\n",
      "Set 1: [{2}, {1, 3}]\n",
      "rand_nodes: [1, 0]\n",
      "weights2com: defaultdict(<class 'float'>, {0: 1.0})\n",
      "check u:1\n",
      "check nbr_com: 0\n",
      "check u:1\n",
      "check nbr_com: 1\n",
      "weights2com: defaultdict(<class 'float'>, {1: 1.0})\n",
      "check u:0\n",
      "check nbr_com: 1\n",
      "check u:0\n",
      "check nbr_com: 0\n"
     ]
    }
   ],
   "source": [
    "import debug as debug\n",
<<<<<<< Updated upstream
    "nx_comm.louvain._one_level=debug._one_level\n",
    "# nx_quality.modularity=directed_modularity\n",
    "\n",
    "#Custom directed modularity\n",
    "# Q_c = 1 if nodes in community c have more than 2 inter-community edges, 0 otherwise\n",
    "# Q = sum of all Q_c for all community c\n",
    "\n",
    "#Set every edge weight to 1\n",
    "# for u,v in G.edges():\n",
    "#     G[u][v]['weight']=1\n",
    "\n",
    "#print the edge weights\n",
    "#print(G.edges(data=True))\n",
    "\n",
    "partition = nx_comm.louvain.louvain_partitions(G, seed=0)\n",
    "#Loop through the partition. It is a list of sets\n",
    "for i, s in enumerate(partition, start=1):\n",
    "    print(f\"Set {i}: {s}\")"
   ]
  },
  {
=======
    "import matplotlib.pyplot as plt\n",
    "\n",
    "nx_comm.louvain._one_level=debug._one_level\n",
    "og_partition = nx_comm.louvain.louvain_partitions(G, seed=0)\n",
    "from sklearn.metrics.cluster import normalized_mutual_info_score"
   ]
  },
  {
   "cell_type": "code",
   "execution_count": 62,
   "metadata": {},
   "outputs": [
    {
     "name": "stdout",
     "output_type": "stream",
     "text": [
      "[{65, 2, 67, 68, 6, 71, 72, 9, 10, 75, 79, 80, 81, 85, 26, 90, 91, 94, 95, 96, 41, 42, 43, 48, 52, 53, 55, 57, 62}, {1, 4, 5, 8, 11, 13, 78, 14, 16, 20, 22, 33, 35, 99, 46, 50, 63}, {64, 98, 58, 76, 77, 49, 83, 51, 87, 88, 56}, {66, 69, 70, 7, 73, 74, 15, 18, 82, 19, 21, 86, 89, 92, 93, 32, 97, 36, 37, 44, 47, 54, 59, 60, 61}, {0, 3, 12, 17, 84, 23, 24, 25, 27, 28, 29, 30, 31, 34, 38, 39, 40, 45}]\n",
      "One level call\n",
      "One level call\n",
      "One level call\n"
     ]
    },
    {
     "data": {
      "image/png": "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",
      "text/plain": [
       "<Figure size 432x288 with 1 Axes>"
      ]
     },
     "metadata": {
      "needs_background": "light"
     },
     "output_type": "display_data"
    },
    {
     "data": {
      "image/png": "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",
      "text/plain": [
       "<Figure size 432x288 with 1 Axes>"
      ]
     },
     "metadata": {
      "needs_background": "light"
     },
     "output_type": "display_data"
    },
    {
     "name": "stdout",
     "output_type": "stream",
     "text": [
      "The NMI score of original Louvain compared to true label: 0.16\n",
      "The NMI score of our implementation compared to true label: 0.071\n"
     ]
    }
   ],
   "source": [
    "import debug as debug\n",
    "import matplotlib.pyplot as plt\n",
    "from collections import defaultdict, deque\n",
    "import itertools\n",
    "\n",
    "nx_comm.louvain._one_level=debug._one_level\n",
    "og_partition = nx_comm.louvain.louvain_partitions(G, seed=0)\n",
    "\n",
    "final_partition_1 = deque(og_partition, maxlen=1).pop()\n",
    "print(final_partition_1)\n",
    "\n",
    "\n",
    "label_1=np.zeros((n_s))\n",
    "c=0\n",
    "for sets in final_partition_1:\n",
    "    for ell in sets:\n",
    "        label_1[ell]=c\n",
    "    \n",
    "    c=c+1\n",
    "\n",
    "\n",
    "nx_comm.louvain._one_level=Custom_Func._one_level\n",
    "partition = nx_comm.louvain.louvain_partitions(G, seed=0)\n",
    "final_partition_2 = deque(partition, maxlen=1).pop()\n",
    "\n",
    "\n",
    "label_2=np.zeros((n_s))\n",
    "c=0\n",
    "for sets in final_partition_2:\n",
    "    for ell in sets:\n",
    "        label_2[ell]=c\n",
    "    c=c+1\n",
    "\n",
    "\n",
    "xaxis=[i for i in range(n_s)]\n",
    "\n",
    "plt.Figure()\n",
    "plt.scatter(xaxis,label_1,s=2,color='green')\n",
    "plt.show()\n",
    "\n",
    "plt.Figure()\n",
    "plt.scatter(xaxis,label_2,s=2,color='red')\n",
    "plt.show()\n",
    "\n",
    "print(\"The NMI score of original Louvain compared to true label:\",round(NMI(label,label_1),3))\n",
    "print(\"The NMI score of our implementation compared to true label:\",round(NMI(label,label_2),3))\n",
    "\n",
    "\n",
    "# # nx_quality.modularity=directed_modularity\n",
    "\n",
    "# #Custom directed modularity\n",
    "# # Q_c = 1 if nodes in community c have more than 2 inter-community edges, 0 otherwise\n",
    "# # Q = sum of all Q_c for all community c\n",
    "\n",
    "# #Set every edge weight to 1\n",
    "# # for u,v in G.edges():\n",
    "# #     G[u][v]['weight']=1\n",
    "\n",
    "# #print the edge weights\n",
    "# #print(G.edges(data=True))\n",
    "\n",
    "# partition = nx_comm.louvain.louvain_partitions(G, seed=0)\n",
    "# #Loop through the partition. It is a list of sets\n",
    "# for i, s in enumerate(partition, start=1):\n",
    "#     print(f\"Set {i}: {s}\")"
   ]
  },
  {
   "cell_type": "code",
   "execution_count": null,
   "metadata": {},
   "outputs": [],
   "source": [
    "for i, s in enumerate(partition, start=1):\n",
    "    print(f\"Set {i}: {s}\")"
   ]
  },
  {
>>>>>>> Stashed changes
   "cell_type": "markdown",
   "metadata": {},
   "source": [
    "## Custom Directed Modularity"
   ]
  },
  {
   "cell_type": "code",
   "execution_count": 84,
   "metadata": {},
   "outputs": [
    {
     "name": "stdout",
     "output_type": "stream",
     "text": [
      "nbrs: {1: defaultdict(<class 'float'>, {3: 2.0}), 2: defaultdict(<class 'float'>, {3: 1.0}), 3: defaultdict(<class 'float'>, {1: 2.0, 2: 1.0})}\n",
      "rand_nodes: [1, 3, 2]\n",
      "weights2com: defaultdict(<class 'float'>, {2: 2.0})\n",
      "check u:1\n",
      "check nbr_com: 2\n",
      "weights2com: defaultdict(<class 'float'>, {0: 2.0, 1: 1.0})\n",
      "check u:3\n",
      "check nbr_com: 0\n",
      "check u:3\n",
      "check nbr_com: 1\n",
      "weights2com: defaultdict(<class 'float'>, {2: 1.0})\n",
      "check u:2\n",
      "check nbr_com: 2\n",
      "Set 1: [{1}, {2}, {3}]\n"
     ]
    }
   ],
   "source": [
    "custom_partition = Custom_Func.louvain_partitions(G, seed=0)\n",
    "for i, s in enumerate(custom_partition, start=1):\n",
    "    print(f\"Set {i}: {s}\")"
   ]
  },
  {
   "cell_type": "code",
   "execution_count": null,
   "metadata": {},
   "outputs": [],
   "source": []
  }
 ],
 "metadata": {
  "kernelspec": {
   "display_name": "Python 3",
   "language": "python",
   "name": "python3"
  },
  "language_info": {
   "codemirror_mode": {
    "name": "ipython",
    "version": 3
   },
   "file_extension": ".py",
   "mimetype": "text/x-python",
   "name": "python",
   "nbconvert_exporter": "python",
   "pygments_lexer": "ipython3",
   "version": "3.12.3"
  }
 },
 "nbformat": 4,
 "nbformat_minor": 2
}
